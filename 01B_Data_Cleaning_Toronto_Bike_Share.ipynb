{
 "cells": [
  {
   "cell_type": "markdown",
   "id": "40278056",
   "metadata": {},
   "source": [
    "# 01B - Data Cleaning, Toronto Bike Share"
   ]
  },
  {
   "cell_type": "markdown",
   "id": "81639d27",
   "metadata": {},
   "source": [
    "## Import relevant libraries"
   ]
  },
  {
   "cell_type": "code",
   "execution_count": 1,
   "id": "6e6e8828",
   "metadata": {},
   "outputs": [],
   "source": [
    "# Import Libraries\n",
    "import pandas as pd\n",
    "import numpy as np\n",
    "import matplotlib.pyplot as plt"
   ]
  },
  {
   "cell_type": "markdown",
   "id": "2738d1bb",
   "metadata": {},
   "source": [
    "---"
   ]
  },
  {
   "cell_type": "markdown",
   "id": "cf3e1f4d",
   "metadata": {},
   "source": [
    "## Import Data\n",
    "\n",
    "Import 2019 to 2023 data, see work performed in **01A - Data Import, Toronto Bike Share** notebook for the compilation of data."
   ]
  },
  {
   "cell_type": "code",
   "execution_count": 2,
   "id": "520ec337",
   "metadata": {},
   "outputs": [],
   "source": [
    "dtype_dictionary = {\"Trip Id\": 'string', \n",
    "                    \"Trip  Duration\": 'Int64',\n",
    "                    \"Start Station Id\": 'string', \n",
    "                    \"Start Time\": 'string', #use parse_dates in pd.read_csv()\n",
    "                    \"Start Station Name\": 'string',\n",
    "                    \"End Station Id\": 'string',\n",
    "                    \"End Time\": 'string', #use parse_dates in pd.read_csv()\n",
    "                    \"End Station Name\": 'string',\n",
    "                    \"Bike Id\": 'string',\n",
    "                    \"User Type\": 'string'\n",
    "                   }\n",
    "\n",
    "list_parse_date = [\"Start Time\", \"End Time\"]"
   ]
  },
  {
   "cell_type": "code",
   "execution_count": 3,
   "id": "41265c5d",
   "metadata": {},
   "outputs": [],
   "source": [
    "# Read Ridership Data\n",
    "df_bike_share_trips_raw = pd.read_csv(\"data/2019_to_2023_bike_ridership_raw.csv\", \n",
    "                                      dtype=dtype_dictionary, parse_dates=list_parse_date)\n",
    "\n",
    "# Keep the original import dataset for comparability / being able to go back \n",
    "df_bike_share_trips = df_bike_share_trips_raw.copy()"
   ]
  },
  {
   "cell_type": "code",
   "execution_count": 4,
   "id": "a92a7dbc",
   "metadata": {},
   "outputs": [],
   "source": [
    "# Read Other Data\n",
    "\n",
    "# Stations\n",
    "df_bike_stations = pd.read_csv(\"data/bike_stations_raw.csv\",\n",
    "                              dtype={'station_id':'string', 'station_name':'string', 'lat':'float64', 'lon':'float64'}) \n",
    "\n",
    "# Price Plans\n",
    "df_bike_priceplans = pd.read_csv(\"data/bike_priceplans_raw.csv\",\n",
    "                                dtype =  {'plan_id': 'string', 'name': 'string', 'currency': 'string', 'currency': 'string', 'description': 'string'})"
   ]
  },
  {
   "cell_type": "markdown",
   "id": "b73f6305",
   "metadata": {},
   "source": [
    "*Ridership Data - Check*"
   ]
  },
  {
   "cell_type": "code",
   "execution_count": 5,
   "id": "53f99409",
   "metadata": {},
   "outputs": [
    {
     "name": "stdout",
     "output_type": "stream",
     "text": [
      "<class 'pandas.core.frame.DataFrame'>\n",
      "RangeIndex: 19259368 entries, 0 to 19259367\n",
      "Data columns (total 10 columns):\n",
      " #   Column              Dtype         \n",
      "---  ------              -----         \n",
      " 0   Trip Id             string        \n",
      " 1   Trip  Duration      Int64         \n",
      " 2   Start Station Id    string        \n",
      " 3   Start Time          datetime64[ns]\n",
      " 4   Start Station Name  string        \n",
      " 5   End Station Id      string        \n",
      " 6   End Time            datetime64[ns]\n",
      " 7   End Station Name    string        \n",
      " 8   Bike Id             string        \n",
      " 9   User Type           string        \n",
      "dtypes: Int64(1), datetime64[ns](2), string(7)\n",
      "memory usage: 1.5 GB\n"
     ]
    }
   ],
   "source": [
    "df_bike_share_trips.info()"
   ]
  },
  {
   "cell_type": "code",
   "execution_count": 6,
   "id": "b0f2cf0b",
   "metadata": {},
   "outputs": [
    {
     "data": {
      "text/html": [
       "<div>\n",
       "<style scoped>\n",
       "    .dataframe tbody tr th:only-of-type {\n",
       "        vertical-align: middle;\n",
       "    }\n",
       "\n",
       "    .dataframe tbody tr th {\n",
       "        vertical-align: top;\n",
       "    }\n",
       "\n",
       "    .dataframe thead th {\n",
       "        text-align: right;\n",
       "    }\n",
       "</style>\n",
       "<table border=\"1\" class=\"dataframe\">\n",
       "  <thead>\n",
       "    <tr style=\"text-align: right;\">\n",
       "      <th></th>\n",
       "      <th>Trip Id</th>\n",
       "      <th>Trip  Duration</th>\n",
       "      <th>Start Station Id</th>\n",
       "      <th>Start Time</th>\n",
       "      <th>Start Station Name</th>\n",
       "      <th>End Station Id</th>\n",
       "      <th>End Time</th>\n",
       "      <th>End Station Name</th>\n",
       "      <th>Bike Id</th>\n",
       "      <th>User Type</th>\n",
       "    </tr>\n",
       "  </thead>\n",
       "  <tbody>\n",
       "    <tr>\n",
       "      <th>0</th>\n",
       "      <td>4581278</td>\n",
       "      <td>1547</td>\n",
       "      <td>7021</td>\n",
       "      <td>2019-01-01 00:08:00</td>\n",
       "      <td>Bay St / Albert St</td>\n",
       "      <td>7233</td>\n",
       "      <td>2019-01-01 00:33:00</td>\n",
       "      <td>King / Cowan Ave - SMART</td>\n",
       "      <td>1296</td>\n",
       "      <td>Annual Member</td>\n",
       "    </tr>\n",
       "    <tr>\n",
       "      <th>1</th>\n",
       "      <td>4581279</td>\n",
       "      <td>1112</td>\n",
       "      <td>7160</td>\n",
       "      <td>2019-01-01 00:10:00</td>\n",
       "      <td>King St W / Tecumseth St</td>\n",
       "      <td>7051</td>\n",
       "      <td>2019-01-01 00:29:00</td>\n",
       "      <td>Wellesley St E / Yonge St (Green P)</td>\n",
       "      <td>2947</td>\n",
       "      <td>Annual Member</td>\n",
       "    </tr>\n",
       "    <tr>\n",
       "      <th>2</th>\n",
       "      <td>4581280</td>\n",
       "      <td>589</td>\n",
       "      <td>7055</td>\n",
       "      <td>2019-01-01 00:15:00</td>\n",
       "      <td>Jarvis St / Carlton St</td>\n",
       "      <td>7013</td>\n",
       "      <td>2019-01-01 00:25:00</td>\n",
       "      <td>Scott St / The Esplanade</td>\n",
       "      <td>2293</td>\n",
       "      <td>Annual Member</td>\n",
       "    </tr>\n",
       "    <tr>\n",
       "      <th>3</th>\n",
       "      <td>4581281</td>\n",
       "      <td>259</td>\n",
       "      <td>7012</td>\n",
       "      <td>2019-01-01 00:16:00</td>\n",
       "      <td>Elizabeth St / Edward St (Bus Terminal)</td>\n",
       "      <td>7235</td>\n",
       "      <td>2019-01-01 00:20:00</td>\n",
       "      <td>Bay St / College St (West Side) - SMART</td>\n",
       "      <td>283</td>\n",
       "      <td>Annual Member</td>\n",
       "    </tr>\n",
       "    <tr>\n",
       "      <th>4</th>\n",
       "      <td>4581282</td>\n",
       "      <td>281</td>\n",
       "      <td>7041</td>\n",
       "      <td>2019-01-01 00:19:00</td>\n",
       "      <td>Edward St / Yonge St</td>\n",
       "      <td>7257</td>\n",
       "      <td>2019-01-01 00:24:00</td>\n",
       "      <td>Dundas St W / St. Patrick St</td>\n",
       "      <td>1799</td>\n",
       "      <td>Annual Member</td>\n",
       "    </tr>\n",
       "  </tbody>\n",
       "</table>\n",
       "</div>"
      ],
      "text/plain": [
       "   Trip Id  Trip  Duration Start Station Id          Start Time  \\\n",
       "0  4581278            1547             7021 2019-01-01 00:08:00   \n",
       "1  4581279            1112             7160 2019-01-01 00:10:00   \n",
       "2  4581280             589             7055 2019-01-01 00:15:00   \n",
       "3  4581281             259             7012 2019-01-01 00:16:00   \n",
       "4  4581282             281             7041 2019-01-01 00:19:00   \n",
       "\n",
       "                        Start Station Name End Station Id            End Time  \\\n",
       "0                       Bay St / Albert St           7233 2019-01-01 00:33:00   \n",
       "1                 King St W / Tecumseth St           7051 2019-01-01 00:29:00   \n",
       "2                   Jarvis St / Carlton St           7013 2019-01-01 00:25:00   \n",
       "3  Elizabeth St / Edward St (Bus Terminal)           7235 2019-01-01 00:20:00   \n",
       "4                     Edward St / Yonge St           7257 2019-01-01 00:24:00   \n",
       "\n",
       "                          End Station Name Bike Id      User Type  \n",
       "0                 King / Cowan Ave - SMART    1296  Annual Member  \n",
       "1      Wellesley St E / Yonge St (Green P)    2947  Annual Member  \n",
       "2                 Scott St / The Esplanade    2293  Annual Member  \n",
       "3  Bay St / College St (West Side) - SMART     283  Annual Member  \n",
       "4             Dundas St W / St. Patrick St    1799  Annual Member  "
      ]
     },
     "execution_count": 6,
     "metadata": {},
     "output_type": "execute_result"
    }
   ],
   "source": [
    "df_bike_share_trips.head() #visualize"
   ]
  },
  {
   "cell_type": "markdown",
   "id": "e92ec476",
   "metadata": {},
   "source": [
    "*Stations Data - Check*"
   ]
  },
  {
   "cell_type": "code",
   "execution_count": 7,
   "id": "63e25588",
   "metadata": {},
   "outputs": [
    {
     "name": "stdout",
     "output_type": "stream",
     "text": [
      "<class 'pandas.core.frame.DataFrame'>\n",
      "RangeIndex: 785 entries, 0 to 784\n",
      "Data columns (total 4 columns):\n",
      " #   Column        Non-Null Count  Dtype  \n",
      "---  ------        --------------  -----  \n",
      " 0   station_id    785 non-null    string \n",
      " 1   station_name  785 non-null    string \n",
      " 2   lat           785 non-null    float64\n",
      " 3   lon           785 non-null    float64\n",
      "dtypes: float64(2), string(2)\n",
      "memory usage: 24.7 KB\n"
     ]
    }
   ],
   "source": [
    "df_bike_stations.info()"
   ]
  },
  {
   "cell_type": "code",
   "execution_count": 8,
   "id": "52063264",
   "metadata": {},
   "outputs": [
    {
     "data": {
      "text/html": [
       "<div>\n",
       "<style scoped>\n",
       "    .dataframe tbody tr th:only-of-type {\n",
       "        vertical-align: middle;\n",
       "    }\n",
       "\n",
       "    .dataframe tbody tr th {\n",
       "        vertical-align: top;\n",
       "    }\n",
       "\n",
       "    .dataframe thead th {\n",
       "        text-align: right;\n",
       "    }\n",
       "</style>\n",
       "<table border=\"1\" class=\"dataframe\">\n",
       "  <thead>\n",
       "    <tr style=\"text-align: right;\">\n",
       "      <th></th>\n",
       "      <th>station_id</th>\n",
       "      <th>station_name</th>\n",
       "      <th>lat</th>\n",
       "      <th>lon</th>\n",
       "    </tr>\n",
       "  </thead>\n",
       "  <tbody>\n",
       "    <tr>\n",
       "      <th>0</th>\n",
       "      <td>7000</td>\n",
       "      <td>Fort York  Blvd / Capreol Ct</td>\n",
       "      <td>43.639832</td>\n",
       "      <td>-79.395954</td>\n",
       "    </tr>\n",
       "    <tr>\n",
       "      <th>1</th>\n",
       "      <td>7001</td>\n",
       "      <td>Wellesley Station Green P</td>\n",
       "      <td>43.664964</td>\n",
       "      <td>-79.383550</td>\n",
       "    </tr>\n",
       "    <tr>\n",
       "      <th>2</th>\n",
       "      <td>7002</td>\n",
       "      <td>St. George St / Bloor St W</td>\n",
       "      <td>43.667333</td>\n",
       "      <td>-79.399429</td>\n",
       "    </tr>\n",
       "    <tr>\n",
       "      <th>3</th>\n",
       "      <td>7003</td>\n",
       "      <td>Madison Ave / Bloor St W</td>\n",
       "      <td>43.667158</td>\n",
       "      <td>-79.402761</td>\n",
       "    </tr>\n",
       "    <tr>\n",
       "      <th>4</th>\n",
       "      <td>7005</td>\n",
       "      <td>King St W / York St</td>\n",
       "      <td>43.648001</td>\n",
       "      <td>-79.383177</td>\n",
       "    </tr>\n",
       "  </tbody>\n",
       "</table>\n",
       "</div>"
      ],
      "text/plain": [
       "  station_id                  station_name        lat        lon\n",
       "0       7000  Fort York  Blvd / Capreol Ct  43.639832 -79.395954\n",
       "1       7001     Wellesley Station Green P  43.664964 -79.383550\n",
       "2       7002    St. George St / Bloor St W  43.667333 -79.399429\n",
       "3       7003      Madison Ave / Bloor St W  43.667158 -79.402761\n",
       "4       7005           King St W / York St  43.648001 -79.383177"
      ]
     },
     "execution_count": 8,
     "metadata": {},
     "output_type": "execute_result"
    }
   ],
   "source": [
    "df_bike_stations.head()"
   ]
  },
  {
   "cell_type": "markdown",
   "id": "3d93e18c",
   "metadata": {},
   "source": [
    "*Price Plan Data - Check*"
   ]
  },
  {
   "cell_type": "code",
   "execution_count": 9,
   "id": "a5baa69b",
   "metadata": {},
   "outputs": [
    {
     "name": "stdout",
     "output_type": "stream",
     "text": [
      "<class 'pandas.core.frame.DataFrame'>\n",
      "RangeIndex: 49 entries, 0 to 48\n",
      "Data columns (total 6 columns):\n",
      " #   Column       Non-Null Count  Dtype  \n",
      "---  ------       --------------  -----  \n",
      " 0   plan_id      49 non-null     string \n",
      " 1   name         49 non-null     string \n",
      " 2   currency     49 non-null     string \n",
      " 3   price        49 non-null     float64\n",
      " 4   description  40 non-null     string \n",
      " 5   is_taxable   49 non-null     int64  \n",
      "dtypes: float64(1), int64(1), string(4)\n",
      "memory usage: 2.4 KB\n"
     ]
    }
   ],
   "source": [
    "df_bike_priceplans.info()"
   ]
  },
  {
   "cell_type": "code",
   "execution_count": 10,
   "id": "710df368",
   "metadata": {},
   "outputs": [
    {
     "data": {
      "text/html": [
       "<div>\n",
       "<style scoped>\n",
       "    .dataframe tbody tr th:only-of-type {\n",
       "        vertical-align: middle;\n",
       "    }\n",
       "\n",
       "    .dataframe tbody tr th {\n",
       "        vertical-align: top;\n",
       "    }\n",
       "\n",
       "    .dataframe thead th {\n",
       "        text-align: right;\n",
       "    }\n",
       "</style>\n",
       "<table border=\"1\" class=\"dataframe\">\n",
       "  <thead>\n",
       "    <tr style=\"text-align: right;\">\n",
       "      <th></th>\n",
       "      <th>plan_id</th>\n",
       "      <th>name</th>\n",
       "      <th>currency</th>\n",
       "      <th>price</th>\n",
       "      <th>description</th>\n",
       "      <th>is_taxable</th>\n",
       "    </tr>\n",
       "  </thead>\n",
       "  <tbody>\n",
       "    <tr>\n",
       "      <th>0</th>\n",
       "      <td>186</td>\n",
       "      <td>Annual 30</td>\n",
       "      <td>CAD</td>\n",
       "      <td>105.0</td>\n",
       "      <td>Unlimited 30-min trips on classic bikes</td>\n",
       "      <td>1</td>\n",
       "    </tr>\n",
       "    <tr>\n",
       "      <th>1</th>\n",
       "      <td>191</td>\n",
       "      <td>CMP-City of Toronto</td>\n",
       "      <td>CAD</td>\n",
       "      <td>90.0</td>\n",
       "      <td>CMP-City of Toronto</td>\n",
       "      <td>1</td>\n",
       "    </tr>\n",
       "    <tr>\n",
       "      <th>2</th>\n",
       "      <td>208</td>\n",
       "      <td>Annual 45</td>\n",
       "      <td>CAD</td>\n",
       "      <td>120.0</td>\n",
       "      <td>Unlimited 45-min trips on classic bikes</td>\n",
       "      <td>1</td>\n",
       "    </tr>\n",
       "    <tr>\n",
       "      <th>3</th>\n",
       "      <td>209</td>\n",
       "      <td>Corporate 30</td>\n",
       "      <td>CAD</td>\n",
       "      <td>84.0</td>\n",
       "      <td>Corporate 30</td>\n",
       "      <td>1</td>\n",
       "    </tr>\n",
       "    <tr>\n",
       "      <th>4</th>\n",
       "      <td>210</td>\n",
       "      <td>Corporate 45</td>\n",
       "      <td>CAD</td>\n",
       "      <td>96.0</td>\n",
       "      <td>Corporate 45</td>\n",
       "      <td>1</td>\n",
       "    </tr>\n",
       "  </tbody>\n",
       "</table>\n",
       "</div>"
      ],
      "text/plain": [
       "  plan_id                 name currency  price  \\\n",
       "0     186            Annual 30      CAD  105.0   \n",
       "1     191  CMP-City of Toronto      CAD   90.0   \n",
       "2     208            Annual 45      CAD  120.0   \n",
       "3     209         Corporate 30      CAD   84.0   \n",
       "4     210         Corporate 45      CAD   96.0   \n",
       "\n",
       "                               description  is_taxable  \n",
       "0  Unlimited 30-min trips on classic bikes           1  \n",
       "1                      CMP-City of Toronto           1  \n",
       "2  Unlimited 45-min trips on classic bikes           1  \n",
       "3                             Corporate 30           1  \n",
       "4                             Corporate 45           1  "
      ]
     },
     "execution_count": 10,
     "metadata": {},
     "output_type": "execute_result"
    }
   ],
   "source": [
    "df_bike_priceplans.head()"
   ]
  },
  {
   "cell_type": "markdown",
   "id": "56512343",
   "metadata": {},
   "source": [
    "## Bike Station"
   ]
  },
  {
   "cell_type": "markdown",
   "id": "3ed73b41",
   "metadata": {},
   "source": [
    "Upon further inspection, it seems like some stations that are in the trips dataframe is not in the station dataframe. They are likely removed from the station as they are no longer active. \n",
    "\n",
    "I have found supplemental information from a csv file online (i.e. older hardcoded file) to help bridge the gaps in our station dataframe.\n",
    "\n",
    "In a professional setting, I would likely not be using files found online but older internal files / historical tables, etc."
   ]
  },
  {
   "cell_type": "code",
   "execution_count": 11,
   "id": "b4060e81",
   "metadata": {},
   "outputs": [],
   "source": [
    "# Stations SUPPLEMENT\n",
    "df_bike_stations_supplement = pd.read_csv(\"data/bikeshare_stations_supplement.csv\",\n",
    "                                          dtype={'station_id':'string', 'station_name':'string', 'lat':'float64', 'lon':'float64'}) "
   ]
  },
  {
   "cell_type": "code",
   "execution_count": 12,
   "id": "58b1585c",
   "metadata": {
    "scrolled": true
   },
   "outputs": [
    {
     "data": {
      "text/html": [
       "<div>\n",
       "<style scoped>\n",
       "    .dataframe tbody tr th:only-of-type {\n",
       "        vertical-align: middle;\n",
       "    }\n",
       "\n",
       "    .dataframe tbody tr th {\n",
       "        vertical-align: top;\n",
       "    }\n",
       "\n",
       "    .dataframe thead th {\n",
       "        text-align: right;\n",
       "    }\n",
       "</style>\n",
       "<table border=\"1\" class=\"dataframe\">\n",
       "  <thead>\n",
       "    <tr style=\"text-align: right;\">\n",
       "      <th></th>\n",
       "      <th>station_id</th>\n",
       "      <th>name</th>\n",
       "      <th>lat</th>\n",
       "      <th>lon</th>\n",
       "    </tr>\n",
       "  </thead>\n",
       "  <tbody>\n",
       "    <tr>\n",
       "      <th>0</th>\n",
       "      <td>7000</td>\n",
       "      <td>Fort York  Blvd / Capreol Crt</td>\n",
       "      <td>43.639832</td>\n",
       "      <td>-79.395954</td>\n",
       "    </tr>\n",
       "    <tr>\n",
       "      <th>1</th>\n",
       "      <td>7001</td>\n",
       "      <td>Lower Jarvis St / The Esplanade</td>\n",
       "      <td>43.647992</td>\n",
       "      <td>-79.370907</td>\n",
       "    </tr>\n",
       "    <tr>\n",
       "      <th>2</th>\n",
       "      <td>7002</td>\n",
       "      <td>St. George St / Bloor St W</td>\n",
       "      <td>43.667333</td>\n",
       "      <td>-79.399429</td>\n",
       "    </tr>\n",
       "    <tr>\n",
       "      <th>3</th>\n",
       "      <td>7003</td>\n",
       "      <td>Madison Ave / Bloor St W</td>\n",
       "      <td>43.667158</td>\n",
       "      <td>-79.402761</td>\n",
       "    </tr>\n",
       "    <tr>\n",
       "      <th>4</th>\n",
       "      <td>7004</td>\n",
       "      <td>University Ave / Elm St</td>\n",
       "      <td>43.656518</td>\n",
       "      <td>-79.389099</td>\n",
       "    </tr>\n",
       "  </tbody>\n",
       "</table>\n",
       "</div>"
      ],
      "text/plain": [
       "  station_id                             name        lat        lon\n",
       "0       7000    Fort York  Blvd / Capreol Crt  43.639832 -79.395954\n",
       "1       7001  Lower Jarvis St / The Esplanade  43.647992 -79.370907\n",
       "2       7002       St. George St / Bloor St W  43.667333 -79.399429\n",
       "3       7003         Madison Ave / Bloor St W  43.667158 -79.402761\n",
       "4       7004          University Ave / Elm St  43.656518 -79.389099"
      ]
     },
     "execution_count": 12,
     "metadata": {},
     "output_type": "execute_result"
    }
   ],
   "source": [
    "df_bike_stations_supplement.head() # visualize"
   ]
  },
  {
   "cell_type": "code",
   "execution_count": 13,
   "id": "e492808e",
   "metadata": {},
   "outputs": [
    {
     "data": {
      "text/html": [
       "<div>\n",
       "<style scoped>\n",
       "    .dataframe tbody tr th:only-of-type {\n",
       "        vertical-align: middle;\n",
       "    }\n",
       "\n",
       "    .dataframe tbody tr th {\n",
       "        vertical-align: top;\n",
       "    }\n",
       "\n",
       "    .dataframe thead th {\n",
       "        text-align: right;\n",
       "    }\n",
       "</style>\n",
       "<table border=\"1\" class=\"dataframe\">\n",
       "  <thead>\n",
       "    <tr style=\"text-align: right;\">\n",
       "      <th></th>\n",
       "      <th>station_id</th>\n",
       "      <th>station_name</th>\n",
       "      <th>lat</th>\n",
       "      <th>lon</th>\n",
       "    </tr>\n",
       "  </thead>\n",
       "  <tbody>\n",
       "    <tr>\n",
       "      <th>0</th>\n",
       "      <td>7000</td>\n",
       "      <td>Fort York  Blvd / Capreol Ct</td>\n",
       "      <td>43.639832</td>\n",
       "      <td>-79.395954</td>\n",
       "    </tr>\n",
       "    <tr>\n",
       "      <th>1</th>\n",
       "      <td>7001</td>\n",
       "      <td>Wellesley Station Green P</td>\n",
       "      <td>43.664964</td>\n",
       "      <td>-79.383550</td>\n",
       "    </tr>\n",
       "    <tr>\n",
       "      <th>2</th>\n",
       "      <td>7002</td>\n",
       "      <td>St. George St / Bloor St W</td>\n",
       "      <td>43.667333</td>\n",
       "      <td>-79.399429</td>\n",
       "    </tr>\n",
       "    <tr>\n",
       "      <th>3</th>\n",
       "      <td>7003</td>\n",
       "      <td>Madison Ave / Bloor St W</td>\n",
       "      <td>43.667158</td>\n",
       "      <td>-79.402761</td>\n",
       "    </tr>\n",
       "    <tr>\n",
       "      <th>4</th>\n",
       "      <td>7005</td>\n",
       "      <td>King St W / York St</td>\n",
       "      <td>43.648001</td>\n",
       "      <td>-79.383177</td>\n",
       "    </tr>\n",
       "  </tbody>\n",
       "</table>\n",
       "</div>"
      ],
      "text/plain": [
       "  station_id                  station_name        lat        lon\n",
       "0       7000  Fort York  Blvd / Capreol Ct  43.639832 -79.395954\n",
       "1       7001     Wellesley Station Green P  43.664964 -79.383550\n",
       "2       7002    St. George St / Bloor St W  43.667333 -79.399429\n",
       "3       7003      Madison Ave / Bloor St W  43.667158 -79.402761\n",
       "4       7005           King St W / York St  43.648001 -79.383177"
      ]
     },
     "execution_count": 13,
     "metadata": {},
     "output_type": "execute_result"
    }
   ],
   "source": [
    "df_bike_stations.head()"
   ]
  },
  {
   "cell_type": "markdown",
   "id": "e009f4d5",
   "metadata": {},
   "source": [
    "Even a quick side by side comparison of the first 5 rows shows that Station ID 7004, is no longer in the Station dataframe (pulled based on JSON information available at Bike Share URL, see 01A notebook for more details)."
   ]
  },
  {
   "cell_type": "code",
   "execution_count": 14,
   "id": "817db3ef",
   "metadata": {},
   "outputs": [
    {
     "data": {
      "text/html": [
       "<div>\n",
       "<style scoped>\n",
       "    .dataframe tbody tr th:only-of-type {\n",
       "        vertical-align: middle;\n",
       "    }\n",
       "\n",
       "    .dataframe tbody tr th {\n",
       "        vertical-align: top;\n",
       "    }\n",
       "\n",
       "    .dataframe thead th {\n",
       "        text-align: right;\n",
       "    }\n",
       "</style>\n",
       "<table border=\"1\" class=\"dataframe\">\n",
       "  <thead>\n",
       "    <tr style=\"text-align: right;\">\n",
       "      <th></th>\n",
       "      <th>station_id</th>\n",
       "      <th>name</th>\n",
       "      <th>lat</th>\n",
       "      <th>lon</th>\n",
       "    </tr>\n",
       "  </thead>\n",
       "  <tbody>\n",
       "    <tr>\n",
       "      <th>4</th>\n",
       "      <td>7004</td>\n",
       "      <td>University Ave / Elm St</td>\n",
       "      <td>43.656518</td>\n",
       "      <td>-79.389099</td>\n",
       "    </tr>\n",
       "    <tr>\n",
       "      <th>10</th>\n",
       "      <td>7011</td>\n",
       "      <td>Wellington St W / Portland St</td>\n",
       "      <td>43.642982</td>\n",
       "      <td>-79.399256</td>\n",
       "    </tr>\n",
       "    <tr>\n",
       "      <th>50</th>\n",
       "      <td>7051</td>\n",
       "      <td>Wellesley St E / Yonge St (Green P)</td>\n",
       "      <td>43.665060</td>\n",
       "      <td>-79.383570</td>\n",
       "    </tr>\n",
       "    <tr>\n",
       "      <th>55</th>\n",
       "      <td>7056</td>\n",
       "      <td>Parliament St / Gerrard St</td>\n",
       "      <td>43.662132</td>\n",
       "      <td>-79.365680</td>\n",
       "    </tr>\n",
       "    <tr>\n",
       "      <th>59</th>\n",
       "      <td>7060</td>\n",
       "      <td>Princess St / Adelaide St E</td>\n",
       "      <td>43.652123</td>\n",
       "      <td>-79.367139</td>\n",
       "    </tr>\n",
       "    <tr>\n",
       "      <th>61</th>\n",
       "      <td>7062</td>\n",
       "      <td>University Ave / College St</td>\n",
       "      <td>43.659226</td>\n",
       "      <td>-79.390213</td>\n",
       "    </tr>\n",
       "    <tr>\n",
       "      <th>66</th>\n",
       "      <td>7067</td>\n",
       "      <td>Yonge St / Harbour St</td>\n",
       "      <td>43.643795</td>\n",
       "      <td>-79.375413</td>\n",
       "    </tr>\n",
       "    <tr>\n",
       "      <th>88</th>\n",
       "      <td>7092</td>\n",
       "      <td>Pape Subway Green P</td>\n",
       "      <td>43.680223</td>\n",
       "      <td>-79.344062</td>\n",
       "    </tr>\n",
       "    <tr>\n",
       "      <th>94</th>\n",
       "      <td>7098</td>\n",
       "      <td>Riverdale Park South (Broadview Ave)</td>\n",
       "      <td>43.667819</td>\n",
       "      <td>-79.353470</td>\n",
       "    </tr>\n",
       "    <tr>\n",
       "      <th>129</th>\n",
       "      <td>7134</td>\n",
       "      <td>Marlborough Ave / Yonge St</td>\n",
       "      <td>43.680000</td>\n",
       "      <td>-79.391111</td>\n",
       "    </tr>\n",
       "    <tr>\n",
       "      <th>158</th>\n",
       "      <td>7167</td>\n",
       "      <td>Queen St E / George St (Moss Park)</td>\n",
       "      <td>43.654444</td>\n",
       "      <td>-79.371111</td>\n",
       "    </tr>\n",
       "    <tr>\n",
       "      <th>168</th>\n",
       "      <td>7177</td>\n",
       "      <td>East Liberty St / Pirandello St</td>\n",
       "      <td>43.638611</td>\n",
       "      <td>-79.414722</td>\n",
       "    </tr>\n",
       "    <tr>\n",
       "      <th>170</th>\n",
       "      <td>7179</td>\n",
       "      <td>Bloor GO / UP Station (West Toronto Railpath)</td>\n",
       "      <td>43.657500</td>\n",
       "      <td>-79.450278</td>\n",
       "    </tr>\n",
       "    <tr>\n",
       "      <th>221</th>\n",
       "      <td>7241</td>\n",
       "      <td>519 Church St - SMART</td>\n",
       "      <td>43.666805</td>\n",
       "      <td>-79.381288</td>\n",
       "    </tr>\n",
       "    <tr>\n",
       "      <th>231</th>\n",
       "      <td>7251</td>\n",
       "      <td>The Royal Ontario Museum (Bloor St Entrance)</td>\n",
       "      <td>43.668561</td>\n",
       "      <td>-79.394403</td>\n",
       "    </tr>\n",
       "    <tr>\n",
       "      <th>234</th>\n",
       "      <td>7254</td>\n",
       "      <td>Borden St / Bloor St W - SMART</td>\n",
       "      <td>43.665461</td>\n",
       "      <td>-79.408480</td>\n",
       "    </tr>\n",
       "    <tr>\n",
       "      <th>235</th>\n",
       "      <td>7255</td>\n",
       "      <td>Stewart St / Bathurst St  - SMART</td>\n",
       "      <td>43.643307</td>\n",
       "      <td>-79.402176</td>\n",
       "    </tr>\n",
       "    <tr>\n",
       "      <th>254</th>\n",
       "      <td>7275</td>\n",
       "      <td>Queen St W / James St</td>\n",
       "      <td>43.652276</td>\n",
       "      <td>-79.380701</td>\n",
       "    </tr>\n",
       "    <tr>\n",
       "      <th>261</th>\n",
       "      <td>7282</td>\n",
       "      <td>Adelaide St W / Bay St - SMART</td>\n",
       "      <td>43.650152</td>\n",
       "      <td>-79.379856</td>\n",
       "    </tr>\n",
       "    <tr>\n",
       "      <th>271</th>\n",
       "      <td>7293</td>\n",
       "      <td>College St / McCaul St</td>\n",
       "      <td>43.659060</td>\n",
       "      <td>-79.393771</td>\n",
       "    </tr>\n",
       "    <tr>\n",
       "      <th>298</th>\n",
       "      <td>7330</td>\n",
       "      <td>Lee St / Queen St E</td>\n",
       "      <td>43.669863</td>\n",
       "      <td>-79.297786</td>\n",
       "    </tr>\n",
       "    <tr>\n",
       "      <th>337</th>\n",
       "      <td>7369</td>\n",
       "      <td>Dupont St / Emerson Ave SMART</td>\n",
       "      <td>43.667266</td>\n",
       "      <td>-79.443946</td>\n",
       "    </tr>\n",
       "    <tr>\n",
       "      <th>339</th>\n",
       "      <td>7372</td>\n",
       "      <td>King St W / Portland St</td>\n",
       "      <td>43.644286</td>\n",
       "      <td>-79.400740</td>\n",
       "    </tr>\n",
       "    <tr>\n",
       "      <th>349</th>\n",
       "      <td>7382</td>\n",
       "      <td>Simcoe St / Adelaide St W</td>\n",
       "      <td>43.648130</td>\n",
       "      <td>-79.386320</td>\n",
       "    </tr>\n",
       "    <tr>\n",
       "      <th>358</th>\n",
       "      <td>7392</td>\n",
       "      <td>Woodbine Subway Green P (SMART)</td>\n",
       "      <td>43.686829</td>\n",
       "      <td>-79.311073</td>\n",
       "    </tr>\n",
       "  </tbody>\n",
       "</table>\n",
       "</div>"
      ],
      "text/plain": [
       "    station_id                                           name        lat  \\\n",
       "4         7004                        University Ave / Elm St  43.656518   \n",
       "10        7011                  Wellington St W / Portland St  43.642982   \n",
       "50        7051            Wellesley St E / Yonge St (Green P)  43.665060   \n",
       "55        7056                     Parliament St / Gerrard St  43.662132   \n",
       "59        7060                    Princess St / Adelaide St E  43.652123   \n",
       "61        7062                    University Ave / College St  43.659226   \n",
       "66        7067                          Yonge St / Harbour St  43.643795   \n",
       "88        7092                            Pape Subway Green P  43.680223   \n",
       "94        7098           Riverdale Park South (Broadview Ave)  43.667819   \n",
       "129       7134                     Marlborough Ave / Yonge St  43.680000   \n",
       "158       7167             Queen St E / George St (Moss Park)  43.654444   \n",
       "168       7177                East Liberty St / Pirandello St  43.638611   \n",
       "170       7179  Bloor GO / UP Station (West Toronto Railpath)  43.657500   \n",
       "221       7241                          519 Church St - SMART  43.666805   \n",
       "231       7251   The Royal Ontario Museum (Bloor St Entrance)  43.668561   \n",
       "234       7254                 Borden St / Bloor St W - SMART  43.665461   \n",
       "235       7255              Stewart St / Bathurst St  - SMART  43.643307   \n",
       "254       7275                          Queen St W / James St  43.652276   \n",
       "261       7282                 Adelaide St W / Bay St - SMART  43.650152   \n",
       "271       7293                         College St / McCaul St  43.659060   \n",
       "298       7330                            Lee St / Queen St E  43.669863   \n",
       "337       7369                  Dupont St / Emerson Ave SMART  43.667266   \n",
       "339       7372                        King St W / Portland St  43.644286   \n",
       "349       7382                      Simcoe St / Adelaide St W  43.648130   \n",
       "358       7392                Woodbine Subway Green P (SMART)  43.686829   \n",
       "\n",
       "           lon  \n",
       "4   -79.389099  \n",
       "10  -79.399256  \n",
       "50  -79.383570  \n",
       "55  -79.365680  \n",
       "59  -79.367139  \n",
       "61  -79.390213  \n",
       "66  -79.375413  \n",
       "88  -79.344062  \n",
       "94  -79.353470  \n",
       "129 -79.391111  \n",
       "158 -79.371111  \n",
       "168 -79.414722  \n",
       "170 -79.450278  \n",
       "221 -79.381288  \n",
       "231 -79.394403  \n",
       "234 -79.408480  \n",
       "235 -79.402176  \n",
       "254 -79.380701  \n",
       "261 -79.379856  \n",
       "271 -79.393771  \n",
       "298 -79.297786  \n",
       "337 -79.443946  \n",
       "339 -79.400740  \n",
       "349 -79.386320  \n",
       "358 -79.311073  "
      ]
     },
     "execution_count": 14,
     "metadata": {},
     "output_type": "execute_result"
    }
   ],
   "source": [
    "# Get rows where station_id is in supplemental file but not in our current station file\n",
    "df_stations_to_add = df_bike_stations_supplement[~df_bike_stations_supplement['station_id'].isin(df_bike_stations['station_id'])]\n",
    "df_stations_to_add"
   ]
  },
  {
   "cell_type": "code",
   "execution_count": 15,
   "id": "03c5772e",
   "metadata": {},
   "outputs": [
    {
     "data": {
      "text/plain": [
       "25"
      ]
     },
     "execution_count": 15,
     "metadata": {},
     "output_type": "execute_result"
    }
   ],
   "source": [
    "# Number of stations to add\n",
    "df_stations_to_add.shape[0]"
   ]
  },
  {
   "cell_type": "code",
   "execution_count": 16,
   "id": "4041bb61",
   "metadata": {},
   "outputs": [
    {
     "data": {
      "text/plain": [
       "785"
      ]
     },
     "execution_count": 16,
     "metadata": {},
     "output_type": "execute_result"
    }
   ],
   "source": [
    "# Number of rows before adding\n",
    "df_bike_stations.shape[0]"
   ]
  },
  {
   "cell_type": "code",
   "execution_count": 17,
   "id": "455c6981",
   "metadata": {},
   "outputs": [
    {
     "data": {
      "text/plain": [
       "810"
      ]
     },
     "execution_count": 17,
     "metadata": {},
     "output_type": "execute_result"
    }
   ],
   "source": [
    "# Expected Number of rows after adding\n",
    "df_bike_stations.shape[0] + df_stations_to_add.shape[0]"
   ]
  },
  {
   "cell_type": "code",
   "execution_count": 18,
   "id": "25b87df9",
   "metadata": {},
   "outputs": [],
   "source": [
    "df_bike_stations = pd.concat([df_bike_stations, df_stations_to_add],ignore_index=True)"
   ]
  },
  {
   "cell_type": "code",
   "execution_count": 19,
   "id": "67eed422",
   "metadata": {},
   "outputs": [
    {
     "data": {
      "text/plain": [
       "810"
      ]
     },
     "execution_count": 19,
     "metadata": {},
     "output_type": "execute_result"
    }
   ],
   "source": [
    "# Number of rows after adding\n",
    "df_bike_stations.shape[0]"
   ]
  },
  {
   "cell_type": "code",
   "execution_count": 20,
   "id": "1d5d2dbe",
   "metadata": {},
   "outputs": [],
   "source": [
    "# Write to CSV \n",
    "df_bike_stations.to_csv(\"data/bike_stations_clean.csv\",\n",
    "                           index = False) # don't include index as a separate column)"
   ]
  },
  {
   "cell_type": "markdown",
   "id": "fd2ec68f",
   "metadata": {},
   "source": [
    "## Missing Data"
   ]
  },
  {
   "cell_type": "markdown",
   "id": "c076a0c1",
   "metadata": {},
   "source": [
    "Do some Preliminary checks / summaries."
   ]
  },
  {
   "cell_type": "code",
   "execution_count": 21,
   "id": "6e0dce33",
   "metadata": {},
   "outputs": [
    {
     "data": {
      "text/plain": [
       "0"
      ]
     },
     "execution_count": 21,
     "metadata": {},
     "output_type": "execute_result"
    }
   ],
   "source": [
    "df_bike_share_trips.duplicated().sum()"
   ]
  },
  {
   "cell_type": "code",
   "execution_count": 22,
   "id": "e7fb6677",
   "metadata": {},
   "outputs": [
    {
     "data": {
      "text/plain": [
       "Trip Id                    0\n",
       "Trip  Duration            16\n",
       "Start Station Id           0\n",
       "Start Time                 0\n",
       "Start Station Name    783014\n",
       "End Station Id          7947\n",
       "End Time                   0\n",
       "End Station Name      791926\n",
       "Bike Id                  276\n",
       "User Type                  0\n",
       "dtype: int64"
      ]
     },
     "execution_count": 22,
     "metadata": {},
     "output_type": "execute_result"
    }
   ],
   "source": [
    "# Count of missing data\n",
    "df_bike_share_trips.isna().sum()"
   ]
  },
  {
   "cell_type": "markdown",
   "id": "ec1274ec",
   "metadata": {},
   "source": [
    "##### Approach:\n",
    "- I plan on tackling Trip Duration first - relatively insignificant missing data.\n",
    "- I will look at Bike Id next, as it's isolated from Stations\n",
    "- I will look at Station related Data next. I will start with End Station Id as this is the unique identifier for Stations. If both the Id and Name are missing then there is no way to identify the end station."
   ]
  },
  {
   "cell_type": "markdown",
   "id": "6d355b1c",
   "metadata": {},
   "source": [
    "### Missing Data - Trip Duration"
   ]
  },
  {
   "cell_type": "code",
   "execution_count": 23,
   "id": "dfe1dd8f",
   "metadata": {},
   "outputs": [
    {
     "data": {
      "text/plain": [
       "16"
      ]
     },
     "execution_count": 23,
     "metadata": {},
     "output_type": "execute_result"
    }
   ],
   "source": [
    "# Magnitude of Missing Data\n",
    "df_bike_share_trips.isna()['Trip  Duration'].sum()"
   ]
  },
  {
   "cell_type": "code",
   "execution_count": 24,
   "id": "cbd3d5a6",
   "metadata": {},
   "outputs": [
    {
     "data": {
      "text/html": [
       "<div>\n",
       "<style scoped>\n",
       "    .dataframe tbody tr th:only-of-type {\n",
       "        vertical-align: middle;\n",
       "    }\n",
       "\n",
       "    .dataframe tbody tr th {\n",
       "        vertical-align: top;\n",
       "    }\n",
       "\n",
       "    .dataframe thead th {\n",
       "        text-align: right;\n",
       "    }\n",
       "</style>\n",
       "<table border=\"1\" class=\"dataframe\">\n",
       "  <thead>\n",
       "    <tr style=\"text-align: right;\">\n",
       "      <th></th>\n",
       "      <th>Trip Id</th>\n",
       "      <th>Trip  Duration</th>\n",
       "      <th>Start Station Id</th>\n",
       "      <th>Start Time</th>\n",
       "      <th>Start Station Name</th>\n",
       "      <th>End Station Id</th>\n",
       "      <th>End Time</th>\n",
       "      <th>End Station Name</th>\n",
       "      <th>Bike Id</th>\n",
       "      <th>User Type</th>\n",
       "    </tr>\n",
       "  </thead>\n",
       "  <tbody>\n",
       "    <tr>\n",
       "      <th>59771</th>\n",
       "      <td>4651028</td>\n",
       "      <td>&lt;NA&gt;</td>\n",
       "      <td>7380</td>\n",
       "      <td>2019-01-28 12:45:00</td>\n",
       "      <td>Erskine Ave / Yonge St SMART</td>\n",
       "      <td>7380</td>\n",
       "      <td>2019-01-28 12:45:00</td>\n",
       "      <td>Erskine Ave / Yonge St SMART</td>\n",
       "      <td>329</td>\n",
       "      <td>Annual Member</td>\n",
       "    </tr>\n",
       "    <tr>\n",
       "      <th>74933</th>\n",
       "      <td>4669491</td>\n",
       "      <td>&lt;NA&gt;</td>\n",
       "      <td>7309</td>\n",
       "      <td>2019-02-09 21:07:00</td>\n",
       "      <td>Queen St. E / Rhodes Ave.</td>\n",
       "      <td>7309</td>\n",
       "      <td>2019-02-09 21:07:00</td>\n",
       "      <td>Queen St. E / Rhodes Ave.</td>\n",
       "      <td>2173</td>\n",
       "      <td>Annual Member</td>\n",
       "    </tr>\n",
       "    <tr>\n",
       "      <th>78219</th>\n",
       "      <td>4673600</td>\n",
       "      <td>&lt;NA&gt;</td>\n",
       "      <td>7100</td>\n",
       "      <td>2019-02-12 13:58:00</td>\n",
       "      <td>Dundas St E / Regent Park Blvd</td>\n",
       "      <td>7100</td>\n",
       "      <td>2019-02-12 13:59:00</td>\n",
       "      <td>Dundas St E / Regent Park Blvd</td>\n",
       "      <td>3103</td>\n",
       "      <td>Annual Member</td>\n",
       "    </tr>\n",
       "    <tr>\n",
       "      <th>86634</th>\n",
       "      <td>4684203</td>\n",
       "      <td>&lt;NA&gt;</td>\n",
       "      <td>7324</td>\n",
       "      <td>2019-02-20 09:35:00</td>\n",
       "      <td>King St W / Charlotte St (West)</td>\n",
       "      <td>7324</td>\n",
       "      <td>2019-02-20 09:35:00</td>\n",
       "      <td>King St W / Charlotte St (West)</td>\n",
       "      <td>1834</td>\n",
       "      <td>Annual Member</td>\n",
       "    </tr>\n",
       "    <tr>\n",
       "      <th>120157</th>\n",
       "      <td>4724000</td>\n",
       "      <td>&lt;NA&gt;</td>\n",
       "      <td>7387</td>\n",
       "      <td>2019-03-11 18:47:00</td>\n",
       "      <td>Mortimer Ave / Carlaw Ave SMART</td>\n",
       "      <td>7387</td>\n",
       "      <td>2019-03-11 18:47:00</td>\n",
       "      <td>Mortimer Ave / Carlaw Ave SMART</td>\n",
       "      <td>557</td>\n",
       "      <td>Annual Member</td>\n",
       "    </tr>\n",
       "    <tr>\n",
       "      <th>159043</th>\n",
       "      <td>4768737</td>\n",
       "      <td>&lt;NA&gt;</td>\n",
       "      <td>7341</td>\n",
       "      <td>2019-03-23 14:20:00</td>\n",
       "      <td>Eastern Ave / Winnifred Ave</td>\n",
       "      <td>7341</td>\n",
       "      <td>2019-03-23 14:20:00</td>\n",
       "      <td>Eastern Ave / Winnifred Ave</td>\n",
       "      <td>3272</td>\n",
       "      <td>Annual Member</td>\n",
       "    </tr>\n",
       "    <tr>\n",
       "      <th>188615</th>\n",
       "      <td>4802014</td>\n",
       "      <td>&lt;NA&gt;</td>\n",
       "      <td>7385</td>\n",
       "      <td>2019-03-31 15:48:00</td>\n",
       "      <td>20 Charles St E</td>\n",
       "      <td>7385</td>\n",
       "      <td>2019-03-31 15:49:00</td>\n",
       "      <td>20 Charles St E</td>\n",
       "      <td>3733</td>\n",
       "      <td>Annual Member</td>\n",
       "    </tr>\n",
       "    <tr>\n",
       "      <th>312368</th>\n",
       "      <td>4942306</td>\n",
       "      <td>&lt;NA&gt;</td>\n",
       "      <td>7203</td>\n",
       "      <td>2019-04-26 11:11:00</td>\n",
       "      <td>Bathurst St/Queens Quay(Billy Bishop Airport)</td>\n",
       "      <td>7203</td>\n",
       "      <td>2019-04-26 11:11:00</td>\n",
       "      <td>Bathurst St/Queens Quay(Billy Bishop Airport)</td>\n",
       "      <td>1186</td>\n",
       "      <td>Annual Member</td>\n",
       "    </tr>\n",
       "    <tr>\n",
       "      <th>395955</th>\n",
       "      <td>5037597</td>\n",
       "      <td>&lt;NA&gt;</td>\n",
       "      <td>7354</td>\n",
       "      <td>2019-05-11 13:22:00</td>\n",
       "      <td>Tommy Thompson Park (Leslie Street Spit)</td>\n",
       "      <td>7354</td>\n",
       "      <td>2019-05-11 13:22:00</td>\n",
       "      <td>Tommy Thompson Park (Leslie Street Spit)</td>\n",
       "      <td>714</td>\n",
       "      <td>Annual Member</td>\n",
       "    </tr>\n",
       "    <tr>\n",
       "      <th>407899</th>\n",
       "      <td>5051307</td>\n",
       "      <td>&lt;NA&gt;</td>\n",
       "      <td>7385</td>\n",
       "      <td>2019-05-14 16:29:00</td>\n",
       "      <td>20 Charles St E</td>\n",
       "      <td>7385</td>\n",
       "      <td>2019-05-14 16:29:00</td>\n",
       "      <td>20 Charles St E</td>\n",
       "      <td>3167</td>\n",
       "      <td>Annual Member</td>\n",
       "    </tr>\n",
       "    <tr>\n",
       "      <th>492954</th>\n",
       "      <td>5144798</td>\n",
       "      <td>&lt;NA&gt;</td>\n",
       "      <td>7365</td>\n",
       "      <td>2019-05-25 16:52:00</td>\n",
       "      <td>Kew Beach Ave / Kenilworth Ave</td>\n",
       "      <td>7365</td>\n",
       "      <td>2019-05-25 16:52:00</td>\n",
       "      <td>Kew Beach Ave / Kenilworth Ave</td>\n",
       "      <td>2546</td>\n",
       "      <td>Annual Member</td>\n",
       "    </tr>\n",
       "    <tr>\n",
       "      <th>1290325</th>\n",
       "      <td>6034741</td>\n",
       "      <td>&lt;NA&gt;</td>\n",
       "      <td>7064</td>\n",
       "      <td>2019-08-06 07:50:00</td>\n",
       "      <td>51 Parliament St</td>\n",
       "      <td>7100</td>\n",
       "      <td>2019-08-06 07:50:00</td>\n",
       "      <td>Dundas St E / Regent Park Blvd</td>\n",
       "      <td>2872</td>\n",
       "      <td>Annual Member</td>\n",
       "    </tr>\n",
       "    <tr>\n",
       "      <th>1674887</th>\n",
       "      <td>6465255</td>\n",
       "      <td>&lt;NA&gt;</td>\n",
       "      <td>7417</td>\n",
       "      <td>2019-09-04 13:13:00</td>\n",
       "      <td>King St W / Jordan St</td>\n",
       "      <td>7184</td>\n",
       "      <td>2019-09-04 13:13:00</td>\n",
       "      <td>Ossington Ave / College St</td>\n",
       "      <td>3550</td>\n",
       "      <td>Annual Member</td>\n",
       "    </tr>\n",
       "    <tr>\n",
       "      <th>1749283</th>\n",
       "      <td>6547689</td>\n",
       "      <td>&lt;NA&gt;</td>\n",
       "      <td>7324</td>\n",
       "      <td>2019-09-10 21:31:00</td>\n",
       "      <td>King St W / Charlotte St (West)</td>\n",
       "      <td>7160</td>\n",
       "      <td>2019-09-10 21:31:00</td>\n",
       "      <td>King St W / Tecumseth St</td>\n",
       "      <td>4252</td>\n",
       "      <td>Annual Member</td>\n",
       "    </tr>\n",
       "    <tr>\n",
       "      <th>2198867</th>\n",
       "      <td>7052003</td>\n",
       "      <td>&lt;NA&gt;</td>\n",
       "      <td>7509</td>\n",
       "      <td>2019-10-28 17:49:00</td>\n",
       "      <td>Ontario St / King St E</td>\n",
       "      <td>7382</td>\n",
       "      <td>2019-10-28 17:49:00</td>\n",
       "      <td>Simcoe St / Adelaide St W</td>\n",
       "      <td>3923</td>\n",
       "      <td>Annual Member</td>\n",
       "    </tr>\n",
       "    <tr>\n",
       "      <th>2415410</th>\n",
       "      <td>7305847</td>\n",
       "      <td>&lt;NA&gt;</td>\n",
       "      <td>7037</td>\n",
       "      <td>2019-12-20 12:28:00</td>\n",
       "      <td>Bathurst St / Dundas St W</td>\n",
       "      <td>7240</td>\n",
       "      <td>2019-12-20 12:28:00</td>\n",
       "      <td>Bloor St W / Shaw Ave - SMART</td>\n",
       "      <td>4231</td>\n",
       "      <td>Annual Member</td>\n",
       "    </tr>\n",
       "  </tbody>\n",
       "</table>\n",
       "</div>"
      ],
      "text/plain": [
       "         Trip Id  Trip  Duration Start Station Id          Start Time  \\\n",
       "59771    4651028            <NA>             7380 2019-01-28 12:45:00   \n",
       "74933    4669491            <NA>             7309 2019-02-09 21:07:00   \n",
       "78219    4673600            <NA>             7100 2019-02-12 13:58:00   \n",
       "86634    4684203            <NA>             7324 2019-02-20 09:35:00   \n",
       "120157   4724000            <NA>             7387 2019-03-11 18:47:00   \n",
       "159043   4768737            <NA>             7341 2019-03-23 14:20:00   \n",
       "188615   4802014            <NA>             7385 2019-03-31 15:48:00   \n",
       "312368   4942306            <NA>             7203 2019-04-26 11:11:00   \n",
       "395955   5037597            <NA>             7354 2019-05-11 13:22:00   \n",
       "407899   5051307            <NA>             7385 2019-05-14 16:29:00   \n",
       "492954   5144798            <NA>             7365 2019-05-25 16:52:00   \n",
       "1290325  6034741            <NA>             7064 2019-08-06 07:50:00   \n",
       "1674887  6465255            <NA>             7417 2019-09-04 13:13:00   \n",
       "1749283  6547689            <NA>             7324 2019-09-10 21:31:00   \n",
       "2198867  7052003            <NA>             7509 2019-10-28 17:49:00   \n",
       "2415410  7305847            <NA>             7037 2019-12-20 12:28:00   \n",
       "\n",
       "                                    Start Station Name End Station Id  \\\n",
       "59771                     Erskine Ave / Yonge St SMART           7380   \n",
       "74933                        Queen St. E / Rhodes Ave.           7309   \n",
       "78219                   Dundas St E / Regent Park Blvd           7100   \n",
       "86634                  King St W / Charlotte St (West)           7324   \n",
       "120157                 Mortimer Ave / Carlaw Ave SMART           7387   \n",
       "159043                     Eastern Ave / Winnifred Ave           7341   \n",
       "188615                                 20 Charles St E           7385   \n",
       "312368   Bathurst St/Queens Quay(Billy Bishop Airport)           7203   \n",
       "395955        Tommy Thompson Park (Leslie Street Spit)           7354   \n",
       "407899                                 20 Charles St E           7385   \n",
       "492954                  Kew Beach Ave / Kenilworth Ave           7365   \n",
       "1290325                               51 Parliament St           7100   \n",
       "1674887                          King St W / Jordan St           7184   \n",
       "1749283                King St W / Charlotte St (West)           7160   \n",
       "2198867                         Ontario St / King St E           7382   \n",
       "2415410                      Bathurst St / Dundas St W           7240   \n",
       "\n",
       "                   End Time                               End Station Name  \\\n",
       "59771   2019-01-28 12:45:00                   Erskine Ave / Yonge St SMART   \n",
       "74933   2019-02-09 21:07:00                      Queen St. E / Rhodes Ave.   \n",
       "78219   2019-02-12 13:59:00                 Dundas St E / Regent Park Blvd   \n",
       "86634   2019-02-20 09:35:00                King St W / Charlotte St (West)   \n",
       "120157  2019-03-11 18:47:00                Mortimer Ave / Carlaw Ave SMART   \n",
       "159043  2019-03-23 14:20:00                    Eastern Ave / Winnifred Ave   \n",
       "188615  2019-03-31 15:49:00                                20 Charles St E   \n",
       "312368  2019-04-26 11:11:00  Bathurst St/Queens Quay(Billy Bishop Airport)   \n",
       "395955  2019-05-11 13:22:00       Tommy Thompson Park (Leslie Street Spit)   \n",
       "407899  2019-05-14 16:29:00                                20 Charles St E   \n",
       "492954  2019-05-25 16:52:00                 Kew Beach Ave / Kenilworth Ave   \n",
       "1290325 2019-08-06 07:50:00                 Dundas St E / Regent Park Blvd   \n",
       "1674887 2019-09-04 13:13:00                     Ossington Ave / College St   \n",
       "1749283 2019-09-10 21:31:00                       King St W / Tecumseth St   \n",
       "2198867 2019-10-28 17:49:00                      Simcoe St / Adelaide St W   \n",
       "2415410 2019-12-20 12:28:00                  Bloor St W / Shaw Ave - SMART   \n",
       "\n",
       "        Bike Id      User Type  \n",
       "59771       329  Annual Member  \n",
       "74933      2173  Annual Member  \n",
       "78219      3103  Annual Member  \n",
       "86634      1834  Annual Member  \n",
       "120157      557  Annual Member  \n",
       "159043     3272  Annual Member  \n",
       "188615     3733  Annual Member  \n",
       "312368     1186  Annual Member  \n",
       "395955      714  Annual Member  \n",
       "407899     3167  Annual Member  \n",
       "492954     2546  Annual Member  \n",
       "1290325    2872  Annual Member  \n",
       "1674887    3550  Annual Member  \n",
       "1749283    4252  Annual Member  \n",
       "2198867    3923  Annual Member  \n",
       "2415410    4231  Annual Member  "
      ]
     },
     "execution_count": 24,
     "metadata": {},
     "output_type": "execute_result"
    }
   ],
   "source": [
    "# Visualize Trip Duration Missing Values\n",
    "df_bike_share_trips[df_bike_share_trips['Trip  Duration'].isna()]"
   ]
  },
  {
   "cell_type": "markdown",
   "id": "61e70d5e",
   "metadata": {},
   "source": [
    "Based on quick visual inspection, it appears that Trip Duration is null when `Start Time` equals `End Time`"
   ]
  },
  {
   "cell_type": "code",
   "execution_count": 25,
   "id": "1852c9c8",
   "metadata": {},
   "outputs": [
    {
     "data": {
      "text/plain": [
       "59771     2019-01-28 12:45:00\n",
       "74933     2019-02-09 21:07:00\n",
       "78219     2019-02-12 13:59:00\n",
       "86634     2019-02-20 09:35:00\n",
       "120157    2019-03-11 18:47:00\n",
       "159043    2019-03-23 14:20:00\n",
       "188615    2019-03-31 15:49:00\n",
       "312368    2019-04-26 11:11:00\n",
       "395955    2019-05-11 13:22:00\n",
       "407899    2019-05-14 16:29:00\n",
       "492954    2019-05-25 16:52:00\n",
       "1290325   2019-08-06 07:50:00\n",
       "1674887   2019-09-04 13:13:00\n",
       "1749283   2019-09-10 21:31:00\n",
       "2198867   2019-10-28 17:49:00\n",
       "2415410   2019-12-20 12:28:00\n",
       "Name: End Time, dtype: datetime64[ns]"
      ]
     },
     "execution_count": 25,
     "metadata": {},
     "output_type": "execute_result"
    }
   ],
   "source": [
    "df_bike_share_trips[df_bike_share_trips['Trip  Duration'].isna()]['End Time']"
   ]
  },
  {
   "cell_type": "code",
   "execution_count": 26,
   "id": "cc12c563",
   "metadata": {},
   "outputs": [
    {
     "data": {
      "text/plain": [
       "59771     0 days 00:00:00\n",
       "74933     0 days 00:00:00\n",
       "78219     0 days 00:01:00\n",
       "86634     0 days 00:00:00\n",
       "120157    0 days 00:00:00\n",
       "159043    0 days 00:00:00\n",
       "188615    0 days 00:01:00\n",
       "312368    0 days 00:00:00\n",
       "395955    0 days 00:00:00\n",
       "407899    0 days 00:00:00\n",
       "492954    0 days 00:00:00\n",
       "1290325   0 days 00:00:00\n",
       "1674887   0 days 00:00:00\n",
       "1749283   0 days 00:00:00\n",
       "2198867   0 days 00:00:00\n",
       "2415410   0 days 00:00:00\n",
       "dtype: timedelta64[ns]"
      ]
     },
     "execution_count": 26,
     "metadata": {},
     "output_type": "execute_result"
    }
   ],
   "source": [
    "na_trip_delta = df_bike_share_trips[df_bike_share_trips['Trip  Duration'].isna()]['End Time'] - df_bike_share_trips[df_bike_share_trips['Trip  Duration'].isna()]['Start Time']\n",
    "na_trip_delta #show"
   ]
  },
  {
   "cell_type": "code",
   "execution_count": 27,
   "id": "a86ff508",
   "metadata": {},
   "outputs": [
    {
     "data": {
      "text/plain": [
       "59771       0\n",
       "74933       0\n",
       "78219      60\n",
       "86634       0\n",
       "120157      0\n",
       "159043      0\n",
       "188615     60\n",
       "312368      0\n",
       "395955      0\n",
       "407899      0\n",
       "492954      0\n",
       "1290325     0\n",
       "1674887     0\n",
       "1749283     0\n",
       "2198867     0\n",
       "2415410     0\n",
       "dtype: int64"
      ]
     },
     "execution_count": 27,
     "metadata": {},
     "output_type": "execute_result"
    }
   ],
   "source": [
    "# Conver Time Delta to integer in seconds\n",
    "na_trip_delta = (na_trip_delta / np.timedelta64(1, 's')).astype('int64')\n",
    "na_trip_delta"
   ]
  },
  {
   "cell_type": "code",
   "execution_count": 28,
   "id": "140201a6",
   "metadata": {},
   "outputs": [
    {
     "data": {
      "text/plain": [
       "19259352"
      ]
     },
     "execution_count": 28,
     "metadata": {},
     "output_type": "execute_result"
    }
   ],
   "source": [
    "# Expected rows after drop\n",
    "df_bike_share_trips.shape[0] - df_bike_share_trips['Trip  Duration'].isna().sum()"
   ]
  },
  {
   "cell_type": "code",
   "execution_count": 29,
   "id": "c558b610",
   "metadata": {},
   "outputs": [],
   "source": [
    "# Drop Rows where Trip Duration \n",
    "df_bike_share_trips.dropna(subset=['Trip  Duration'], inplace=True)"
   ]
  },
  {
   "cell_type": "code",
   "execution_count": 30,
   "id": "dba68b58",
   "metadata": {},
   "outputs": [
    {
     "data": {
      "text/plain": [
       "(19259352, 10)"
      ]
     },
     "execution_count": 30,
     "metadata": {},
     "output_type": "execute_result"
    }
   ],
   "source": [
    "# Check that total rows are as expected\n",
    "df_bike_share_trips.shape"
   ]
  },
  {
   "cell_type": "code",
   "execution_count": 31,
   "id": "4707c6f5",
   "metadata": {},
   "outputs": [
    {
     "data": {
      "text/plain": [
       "Trip Id                    0\n",
       "Trip  Duration             0\n",
       "Start Station Id           0\n",
       "Start Time                 0\n",
       "Start Station Name    783014\n",
       "End Station Id          7947\n",
       "End Time                   0\n",
       "End Station Name      791926\n",
       "Bike Id                  276\n",
       "User Type                  0\n",
       "dtype: int64"
      ]
     },
     "execution_count": 31,
     "metadata": {},
     "output_type": "execute_result"
    }
   ],
   "source": [
    "#Check Missing Values\n",
    "df_bike_share_trips.isna().sum()\n",
    "\n",
    "# Check that Trip Duration missing values no longer exist"
   ]
  },
  {
   "cell_type": "markdown",
   "id": "6af6dfd9",
   "metadata": {},
   "source": [
    "---"
   ]
  },
  {
   "cell_type": "markdown",
   "id": "98d1ad15",
   "metadata": {},
   "source": [
    "### Missing Data - End Station Id"
   ]
  },
  {
   "cell_type": "code",
   "execution_count": 32,
   "id": "6017c296",
   "metadata": {},
   "outputs": [
    {
     "data": {
      "text/plain": [
       "7947"
      ]
     },
     "execution_count": 32,
     "metadata": {},
     "output_type": "execute_result"
    }
   ],
   "source": [
    "# Magnitude of Missing Data\n",
    "df_bike_share_trips.isna()['End Station Id'].sum()"
   ]
  },
  {
   "cell_type": "code",
   "execution_count": 33,
   "id": "185cd4d2",
   "metadata": {},
   "outputs": [
    {
     "data": {
      "text/html": [
       "<div>\n",
       "<style scoped>\n",
       "    .dataframe tbody tr th:only-of-type {\n",
       "        vertical-align: middle;\n",
       "    }\n",
       "\n",
       "    .dataframe tbody tr th {\n",
       "        vertical-align: top;\n",
       "    }\n",
       "\n",
       "    .dataframe thead th {\n",
       "        text-align: right;\n",
       "    }\n",
       "</style>\n",
       "<table border=\"1\" class=\"dataframe\">\n",
       "  <thead>\n",
       "    <tr style=\"text-align: right;\">\n",
       "      <th></th>\n",
       "      <th>Trip Id</th>\n",
       "      <th>Trip  Duration</th>\n",
       "      <th>Start Station Id</th>\n",
       "      <th>Start Time</th>\n",
       "      <th>Start Station Name</th>\n",
       "      <th>End Station Id</th>\n",
       "      <th>End Time</th>\n",
       "      <th>End Station Name</th>\n",
       "      <th>Bike Id</th>\n",
       "      <th>User Type</th>\n",
       "    </tr>\n",
       "  </thead>\n",
       "  <tbody>\n",
       "    <tr>\n",
       "      <th>693086</th>\n",
       "      <td>5370500</td>\n",
       "      <td>696</td>\n",
       "      <td>7228</td>\n",
       "      <td>2019-06-17 13:21:00</td>\n",
       "      <td>Queen St W / Roncesvalles Ave</td>\n",
       "      <td>&lt;NA&gt;</td>\n",
       "      <td>2019-06-17 13:32:00</td>\n",
       "      <td>&lt;NA&gt;</td>\n",
       "      <td>2345</td>\n",
       "      <td>Annual Member</td>\n",
       "    </tr>\n",
       "    <tr>\n",
       "      <th>969363</th>\n",
       "      <td>5679465</td>\n",
       "      <td>0</td>\n",
       "      <td>7077</td>\n",
       "      <td>2019-07-11 16:45:00</td>\n",
       "      <td>College Park South</td>\n",
       "      <td>&lt;NA&gt;</td>\n",
       "      <td>2019-07-11 16:45:00</td>\n",
       "      <td>&lt;NA&gt;</td>\n",
       "      <td>1232</td>\n",
       "      <td>Casual Member</td>\n",
       "    </tr>\n",
       "    <tr>\n",
       "      <th>1289598</th>\n",
       "      <td>6033723</td>\n",
       "      <td>327</td>\n",
       "      <td>7444</td>\n",
       "      <td>2019-08-06 01:41:00</td>\n",
       "      <td>Clendenan Ave / Rowland St - SMART</td>\n",
       "      <td>&lt;NA&gt;</td>\n",
       "      <td>2019-08-06 01:46:00</td>\n",
       "      <td>&lt;NA&gt;</td>\n",
       "      <td>1890</td>\n",
       "      <td>Casual Member</td>\n",
       "    </tr>\n",
       "    <tr>\n",
       "      <th>1917536</th>\n",
       "      <td>6735107</td>\n",
       "      <td>979</td>\n",
       "      <td>7432</td>\n",
       "      <td>2019-09-25 14:48:00</td>\n",
       "      <td>Frederick St / King St E</td>\n",
       "      <td>&lt;NA&gt;</td>\n",
       "      <td>2019-09-25 15:04:00</td>\n",
       "      <td>&lt;NA&gt;</td>\n",
       "      <td>2113</td>\n",
       "      <td>Annual Member</td>\n",
       "    </tr>\n",
       "    <tr>\n",
       "      <th>1927909</th>\n",
       "      <td>6746731</td>\n",
       "      <td>60</td>\n",
       "      <td>7077</td>\n",
       "      <td>2019-09-26 13:31:00</td>\n",
       "      <td>College Park South</td>\n",
       "      <td>&lt;NA&gt;</td>\n",
       "      <td>2019-09-26 13:32:00</td>\n",
       "      <td>&lt;NA&gt;</td>\n",
       "      <td>1430</td>\n",
       "      <td>Annual Member</td>\n",
       "    </tr>\n",
       "    <tr>\n",
       "      <th>...</th>\n",
       "      <td>...</td>\n",
       "      <td>...</td>\n",
       "      <td>...</td>\n",
       "      <td>...</td>\n",
       "      <td>...</td>\n",
       "      <td>...</td>\n",
       "      <td>...</td>\n",
       "      <td>...</td>\n",
       "      <td>...</td>\n",
       "      <td>...</td>\n",
       "    </tr>\n",
       "    <tr>\n",
       "      <th>19257075</th>\n",
       "      <td>26680335</td>\n",
       "      <td>0</td>\n",
       "      <td>7197</td>\n",
       "      <td>2023-12-31 15:04:00</td>\n",
       "      <td>Queen St W / Dovercourt Rd</td>\n",
       "      <td>&lt;NA&gt;</td>\n",
       "      <td>2023-12-31 15:04:00</td>\n",
       "      <td>&lt;NA&gt;</td>\n",
       "      <td>5739</td>\n",
       "      <td>Casual Member</td>\n",
       "    </tr>\n",
       "    <tr>\n",
       "      <th>19258545</th>\n",
       "      <td>26681858</td>\n",
       "      <td>0</td>\n",
       "      <td>7770</td>\n",
       "      <td>2023-12-31 18:50:00</td>\n",
       "      <td>&lt;NA&gt;</td>\n",
       "      <td>&lt;NA&gt;</td>\n",
       "      <td>2023-12-31 18:50:00</td>\n",
       "      <td>&lt;NA&gt;</td>\n",
       "      <td>5715</td>\n",
       "      <td>Casual Member</td>\n",
       "    </tr>\n",
       "    <tr>\n",
       "      <th>19258922</th>\n",
       "      <td>26682252</td>\n",
       "      <td>0</td>\n",
       "      <td>7537</td>\n",
       "      <td>2023-12-31 20:56:00</td>\n",
       "      <td>Euclid Ave / Herrick St - SMART</td>\n",
       "      <td>&lt;NA&gt;</td>\n",
       "      <td>2023-12-31 20:56:00</td>\n",
       "      <td>&lt;NA&gt;</td>\n",
       "      <td>3727</td>\n",
       "      <td>Casual Member</td>\n",
       "    </tr>\n",
       "    <tr>\n",
       "      <th>19258925</th>\n",
       "      <td>26682255</td>\n",
       "      <td>0</td>\n",
       "      <td>7537</td>\n",
       "      <td>2023-12-31 20:56:00</td>\n",
       "      <td>Euclid Ave / Herrick St - SMART</td>\n",
       "      <td>&lt;NA&gt;</td>\n",
       "      <td>2023-12-31 20:56:00</td>\n",
       "      <td>&lt;NA&gt;</td>\n",
       "      <td>2991</td>\n",
       "      <td>Casual Member</td>\n",
       "    </tr>\n",
       "    <tr>\n",
       "      <th>19259335</th>\n",
       "      <td>26682698</td>\n",
       "      <td>3431</td>\n",
       "      <td>7411</td>\n",
       "      <td>2023-12-31 23:43:00</td>\n",
       "      <td>Little Norway Park</td>\n",
       "      <td>&lt;NA&gt;</td>\n",
       "      <td>2024-01-01 00:41:00</td>\n",
       "      <td>&lt;NA&gt;</td>\n",
       "      <td>2346</td>\n",
       "      <td>Casual Member</td>\n",
       "    </tr>\n",
       "  </tbody>\n",
       "</table>\n",
       "<p>7947 rows × 10 columns</p>\n",
       "</div>"
      ],
      "text/plain": [
       "           Trip Id  Trip  Duration Start Station Id          Start Time  \\\n",
       "693086     5370500             696             7228 2019-06-17 13:21:00   \n",
       "969363     5679465               0             7077 2019-07-11 16:45:00   \n",
       "1289598    6033723             327             7444 2019-08-06 01:41:00   \n",
       "1917536    6735107             979             7432 2019-09-25 14:48:00   \n",
       "1927909    6746731              60             7077 2019-09-26 13:31:00   \n",
       "...            ...             ...              ...                 ...   \n",
       "19257075  26680335               0             7197 2023-12-31 15:04:00   \n",
       "19258545  26681858               0             7770 2023-12-31 18:50:00   \n",
       "19258922  26682252               0             7537 2023-12-31 20:56:00   \n",
       "19258925  26682255               0             7537 2023-12-31 20:56:00   \n",
       "19259335  26682698            3431             7411 2023-12-31 23:43:00   \n",
       "\n",
       "                          Start Station Name End Station Id  \\\n",
       "693086         Queen St W / Roncesvalles Ave           <NA>   \n",
       "969363                    College Park South           <NA>   \n",
       "1289598   Clendenan Ave / Rowland St - SMART           <NA>   \n",
       "1917536             Frederick St / King St E           <NA>   \n",
       "1927909                   College Park South           <NA>   \n",
       "...                                      ...            ...   \n",
       "19257075          Queen St W / Dovercourt Rd           <NA>   \n",
       "19258545                                <NA>           <NA>   \n",
       "19258922     Euclid Ave / Herrick St - SMART           <NA>   \n",
       "19258925     Euclid Ave / Herrick St - SMART           <NA>   \n",
       "19259335                  Little Norway Park           <NA>   \n",
       "\n",
       "                    End Time End Station Name Bike Id      User Type  \n",
       "693086   2019-06-17 13:32:00             <NA>    2345  Annual Member  \n",
       "969363   2019-07-11 16:45:00             <NA>    1232  Casual Member  \n",
       "1289598  2019-08-06 01:46:00             <NA>    1890  Casual Member  \n",
       "1917536  2019-09-25 15:04:00             <NA>    2113  Annual Member  \n",
       "1927909  2019-09-26 13:32:00             <NA>    1430  Annual Member  \n",
       "...                      ...              ...     ...            ...  \n",
       "19257075 2023-12-31 15:04:00             <NA>    5739  Casual Member  \n",
       "19258545 2023-12-31 18:50:00             <NA>    5715  Casual Member  \n",
       "19258922 2023-12-31 20:56:00             <NA>    3727  Casual Member  \n",
       "19258925 2023-12-31 20:56:00             <NA>    2991  Casual Member  \n",
       "19259335 2024-01-01 00:41:00             <NA>    2346  Casual Member  \n",
       "\n",
       "[7947 rows x 10 columns]"
      ]
     },
     "execution_count": 33,
     "metadata": {},
     "output_type": "execute_result"
    }
   ],
   "source": [
    "# Visualize missing data for End Station Id\n",
    "df_bike_share_trips[df_bike_share_trips['End Station Id'].isna()]"
   ]
  },
  {
   "cell_type": "code",
   "execution_count": 34,
   "id": "ec15e3ee",
   "metadata": {},
   "outputs": [
    {
     "name": "stdout",
     "output_type": "stream",
     "text": [
      "Number of rows where End Station Id and End Station Name, both have null values:  7947\n"
     ]
    }
   ],
   "source": [
    "# Check that the same rows are missing for End Station ID and Name\n",
    "print (\"Number of rows where End Station Id and End Station Name, both have null values: \", \n",
    "       str(df_bike_share_trips[df_bike_share_trips['End Station Id'].isna()]['End Station Name'].isna().sum()))\n",
    "\n",
    "# If it's 7947, then the End Station Name is also blank for all rows."
   ]
  },
  {
   "cell_type": "code",
   "execution_count": 35,
   "id": "0710777e",
   "metadata": {},
   "outputs": [
    {
     "data": {
      "text/plain": [
       "0.000412630705332142"
      ]
     },
     "execution_count": 35,
     "metadata": {},
     "output_type": "execute_result"
    }
   ],
   "source": [
    "# calculate the data missing as a ratio to total rows\n",
    "df_bike_share_trips[df_bike_share_trips['End Station Id'].isna()]['End Station Name'].isna().sum() / df_bike_share_trips.shape[0] "
   ]
  },
  {
   "cell_type": "code",
   "execution_count": 36,
   "id": "3851fb96",
   "metadata": {},
   "outputs": [
    {
     "name": "stdout",
     "output_type": "stream",
     "text": [
      "Percent of total rows : 0.041%\n"
     ]
    }
   ],
   "source": [
    "# Missing data as a percentage of total rows\n",
    "print(\"Percent of total rows : \"+\n",
    "      str(round(df_bike_share_trips[df_bike_share_trips['End Station Id'].isna()]['End Station Name'].isna().sum() / df_bike_share_trips.shape[0] *100,3))+\n",
    "      \"%\"     \n",
    "     )"
   ]
  },
  {
   "cell_type": "markdown",
   "id": "d8242040",
   "metadata": {},
   "source": [
    "##### Findings:\n",
    "- When the End Station ID is missing, so is End Station Name, there is no way to fill in this data without knowledge of what happened to this system (i.e. specific outage to a station, glitch, etc). \n",
    "- As End Station ID / Name are bothe categorical in nature (i.e. non-numerical). We cannot use numerical approaches to fill in data (averages, medians, forward / back fills, etc)\n",
    "- These rows with missing values only represents 0.038% of the data. They will be dropped."
   ]
  },
  {
   "cell_type": "code",
   "execution_count": 37,
   "id": "1beaeb7a",
   "metadata": {},
   "outputs": [
    {
     "data": {
      "text/plain": [
       "19251405"
      ]
     },
     "execution_count": 37,
     "metadata": {},
     "output_type": "execute_result"
    }
   ],
   "source": [
    "# Expected rows after drop\n",
    "df_bike_share_trips.shape[0] - df_bike_share_trips['End Station Id'].isna().sum()"
   ]
  },
  {
   "cell_type": "code",
   "execution_count": 38,
   "id": "bce957aa",
   "metadata": {},
   "outputs": [],
   "source": [
    "# Drop Rows where Trip Duration \n",
    "df_bike_share_trips.dropna(subset=['End Station Id'], inplace=True)"
   ]
  },
  {
   "cell_type": "code",
   "execution_count": 39,
   "id": "c9c3c5f7",
   "metadata": {},
   "outputs": [
    {
     "data": {
      "text/plain": [
       "(19251405, 10)"
      ]
     },
     "execution_count": 39,
     "metadata": {},
     "output_type": "execute_result"
    }
   ],
   "source": [
    "# Check that total rows are as expected\n",
    "df_bike_share_trips.shape"
   ]
  },
  {
   "cell_type": "code",
   "execution_count": 40,
   "id": "4f6a3810",
   "metadata": {},
   "outputs": [
    {
     "data": {
      "text/plain": [
       "Trip Id                    0\n",
       "Trip  Duration             0\n",
       "Start Station Id           0\n",
       "Start Time                 0\n",
       "Start Station Name    782629\n",
       "End Station Id             0\n",
       "End Time                   0\n",
       "End Station Name      783979\n",
       "Bike Id                  275\n",
       "User Type                  0\n",
       "dtype: int64"
      ]
     },
     "execution_count": 40,
     "metadata": {},
     "output_type": "execute_result"
    }
   ],
   "source": [
    "#Check Missing Values\n",
    "df_bike_share_trips.isna().sum()\n",
    "\n",
    "# Check that End Station Id missing values no longer exist"
   ]
  },
  {
   "cell_type": "markdown",
   "id": "cc460fba",
   "metadata": {},
   "source": [
    "### Missing Data - Start Station and End Station Names"
   ]
  },
  {
   "cell_type": "code",
   "execution_count": 41,
   "id": "307245de",
   "metadata": {},
   "outputs": [
    {
     "data": {
      "text/plain": [
       "Start Station Name    782629\n",
       "End Station Name      783979\n",
       "dtype: int64"
      ]
     },
     "execution_count": 41,
     "metadata": {},
     "output_type": "execute_result"
    }
   ],
   "source": [
    "# Magnitude of Missing Data\n",
    "df_bike_share_trips.isna()[['Start Station Name', 'End Station Name']].sum()"
   ]
  },
  {
   "cell_type": "markdown",
   "id": "d1c238f4",
   "metadata": {},
   "source": [
    "Look at *Start Station Name* first, in conjunction with Id"
   ]
  },
  {
   "cell_type": "code",
   "execution_count": 42,
   "id": "b50175dc",
   "metadata": {},
   "outputs": [
    {
     "data": {
      "text/html": [
       "<div>\n",
       "<style scoped>\n",
       "    .dataframe tbody tr th:only-of-type {\n",
       "        vertical-align: middle;\n",
       "    }\n",
       "\n",
       "    .dataframe tbody tr th {\n",
       "        vertical-align: top;\n",
       "    }\n",
       "\n",
       "    .dataframe thead th {\n",
       "        text-align: right;\n",
       "    }\n",
       "</style>\n",
       "<table border=\"1\" class=\"dataframe\">\n",
       "  <thead>\n",
       "    <tr style=\"text-align: right;\">\n",
       "      <th></th>\n",
       "      <th>Start Station Id</th>\n",
       "      <th>Start Station Name</th>\n",
       "    </tr>\n",
       "  </thead>\n",
       "  <tbody>\n",
       "    <tr>\n",
       "      <th>0</th>\n",
       "      <td>7021</td>\n",
       "      <td>Bay St / Albert St</td>\n",
       "    </tr>\n",
       "    <tr>\n",
       "      <th>1</th>\n",
       "      <td>7160</td>\n",
       "      <td>King St W / Tecumseth St</td>\n",
       "    </tr>\n",
       "    <tr>\n",
       "      <th>2</th>\n",
       "      <td>7055</td>\n",
       "      <td>Jarvis St / Carlton St</td>\n",
       "    </tr>\n",
       "    <tr>\n",
       "      <th>3</th>\n",
       "      <td>7012</td>\n",
       "      <td>Elizabeth St / Edward St (Bus Terminal)</td>\n",
       "    </tr>\n",
       "    <tr>\n",
       "      <th>4</th>\n",
       "      <td>7041</td>\n",
       "      <td>Edward St / Yonge St</td>\n",
       "    </tr>\n",
       "    <tr>\n",
       "      <th>...</th>\n",
       "      <td>...</td>\n",
       "      <td>...</td>\n",
       "    </tr>\n",
       "    <tr>\n",
       "      <th>19209850</th>\n",
       "      <td>7116</td>\n",
       "      <td>555 Bloor St East</td>\n",
       "    </tr>\n",
       "    <tr>\n",
       "      <th>19212940</th>\n",
       "      <td>7917</td>\n",
       "      <td>&lt;NA&gt;</td>\n",
       "    </tr>\n",
       "    <tr>\n",
       "      <th>19215025</th>\n",
       "      <td>7916</td>\n",
       "      <td>&lt;NA&gt;</td>\n",
       "    </tr>\n",
       "    <tr>\n",
       "      <th>19231691</th>\n",
       "      <td>7915</td>\n",
       "      <td>&lt;NA&gt;</td>\n",
       "    </tr>\n",
       "    <tr>\n",
       "      <th>19238958</th>\n",
       "      <td>7918</td>\n",
       "      <td>&lt;NA&gt;</td>\n",
       "    </tr>\n",
       "  </tbody>\n",
       "</table>\n",
       "<p>983 rows × 2 columns</p>\n",
       "</div>"
      ],
      "text/plain": [
       "         Start Station Id                       Start Station Name\n",
       "0                    7021                       Bay St / Albert St\n",
       "1                    7160                 King St W / Tecumseth St\n",
       "2                    7055                   Jarvis St / Carlton St\n",
       "3                    7012  Elizabeth St / Edward St (Bus Terminal)\n",
       "4                    7041                     Edward St / Yonge St\n",
       "...                   ...                                      ...\n",
       "19209850             7116                        555 Bloor St East\n",
       "19212940             7917                                     <NA>\n",
       "19215025             7916                                     <NA>\n",
       "19231691             7915                                     <NA>\n",
       "19238958             7918                                     <NA>\n",
       "\n",
       "[983 rows x 2 columns]"
      ]
     },
     "execution_count": 42,
     "metadata": {},
     "output_type": "execute_result"
    }
   ],
   "source": [
    "st_id_name = df_bike_share_trips[['Start Station Id', 'Start Station Name']].drop_duplicates()\n",
    "st_id_name"
   ]
  },
  {
   "cell_type": "code",
   "execution_count": 43,
   "id": "1abafdfa",
   "metadata": {},
   "outputs": [
    {
     "data": {
      "text/plain": [
       "4850058     7659\n",
       "4898087     7660\n",
       "5068606     7662\n",
       "5266799     7663\n",
       "5294110     7664\n",
       "            ... \n",
       "19204704    7882\n",
       "19212940    7917\n",
       "19215025    7916\n",
       "19231691    7915\n",
       "19238958    7918\n",
       "Name: Start Station Id, Length: 241, dtype: string"
      ]
     },
     "execution_count": 43,
     "metadata": {},
     "output_type": "execute_result"
    }
   ],
   "source": [
    "st_id_missing_name = st_id_name[st_id_name['Start Station Name'].isna()]['Start Station Id']\n",
    "st_id_missing_name # Get series of stations Ids which are missing names"
   ]
  },
  {
   "cell_type": "code",
   "execution_count": 44,
   "id": "2f479e5e",
   "metadata": {},
   "outputs": [
    {
     "data": {
      "text/plain": [
       "Start Station Id      15\n",
       "Start Station Name    15\n",
       "dtype: int64"
      ]
     },
     "execution_count": 44,
     "metadata": {},
     "output_type": "execute_result"
    }
   ],
   "source": [
    "# Check how many of them have names in our dataset\n",
    "st_id_name[st_id_name['Start Station Id'].isin(st_id_missing_name)].dropna().count()\n",
    "\n",
    "# Number of Ids already within our dataset"
   ]
  },
  {
   "cell_type": "code",
   "execution_count": 45,
   "id": "db2e36dd",
   "metadata": {},
   "outputs": [
    {
     "data": {
      "text/html": [
       "<div>\n",
       "<style scoped>\n",
       "    .dataframe tbody tr th:only-of-type {\n",
       "        vertical-align: middle;\n",
       "    }\n",
       "\n",
       "    .dataframe tbody tr th {\n",
       "        vertical-align: top;\n",
       "    }\n",
       "\n",
       "    .dataframe thead th {\n",
       "        text-align: right;\n",
       "    }\n",
       "</style>\n",
       "<table border=\"1\" class=\"dataframe\">\n",
       "  <thead>\n",
       "    <tr style=\"text-align: right;\">\n",
       "      <th></th>\n",
       "      <th>Start Station Id</th>\n",
       "      <th>Start Station Name</th>\n",
       "    </tr>\n",
       "  </thead>\n",
       "  <tbody>\n",
       "    <tr>\n",
       "      <th>5437285</th>\n",
       "      <td>7667</td>\n",
       "      <td>Spadina Ave / Sussex Ave - SMART</td>\n",
       "    </tr>\n",
       "    <tr>\n",
       "      <th>5437382</th>\n",
       "      <td>7662</td>\n",
       "      <td>Beaty Ave / Queen St W</td>\n",
       "    </tr>\n",
       "    <tr>\n",
       "      <th>5437648</th>\n",
       "      <td>7659</td>\n",
       "      <td>Amroth Ave / Danforth Ave</td>\n",
       "    </tr>\n",
       "    <tr>\n",
       "      <th>5440055</th>\n",
       "      <td>7663</td>\n",
       "      <td>Kilgour Rd / Rumsey Rd</td>\n",
       "    </tr>\n",
       "    <tr>\n",
       "      <th>5441067</th>\n",
       "      <td>7665</td>\n",
       "      <td>Sunnybrook Health Centre - S Wing</td>\n",
       "    </tr>\n",
       "    <tr>\n",
       "      <th>5441074</th>\n",
       "      <td>7660</td>\n",
       "      <td>285 Victoria St</td>\n",
       "    </tr>\n",
       "    <tr>\n",
       "      <th>5449285</th>\n",
       "      <td>7666</td>\n",
       "      <td>Dundas St W / St Helen Ave - SMART</td>\n",
       "    </tr>\n",
       "    <tr>\n",
       "      <th>5456428</th>\n",
       "      <td>7664</td>\n",
       "      <td>Sunnybrook Health Centre - L Wing</td>\n",
       "    </tr>\n",
       "    <tr>\n",
       "      <th>8170265</th>\n",
       "      <td>7675</td>\n",
       "      <td>1525 Dundas St</td>\n",
       "    </tr>\n",
       "    <tr>\n",
       "      <th>8170304</th>\n",
       "      <td>7680</td>\n",
       "      <td>Princes Gate / Nunavut Dr</td>\n",
       "    </tr>\n",
       "    <tr>\n",
       "      <th>8171423</th>\n",
       "      <td>7681</td>\n",
       "      <td>25 Booth Ave</td>\n",
       "    </tr>\n",
       "    <tr>\n",
       "      <th>8172355</th>\n",
       "      <td>7679</td>\n",
       "      <td>York University Station (North)</td>\n",
       "    </tr>\n",
       "    <tr>\n",
       "      <th>8173025</th>\n",
       "      <td>7677</td>\n",
       "      <td>1303 Yonge St - SMART</td>\n",
       "    </tr>\n",
       "    <tr>\n",
       "      <th>8177333</th>\n",
       "      <td>7678</td>\n",
       "      <td>York University Station (South) - SMART</td>\n",
       "    </tr>\n",
       "    <tr>\n",
       "      <th>8192570</th>\n",
       "      <td>7676</td>\n",
       "      <td>York University (Glendon Campus) - SMART</td>\n",
       "    </tr>\n",
       "  </tbody>\n",
       "</table>\n",
       "</div>"
      ],
      "text/plain": [
       "        Start Station Id                        Start Station Name\n",
       "5437285             7667          Spadina Ave / Sussex Ave - SMART\n",
       "5437382             7662                    Beaty Ave / Queen St W\n",
       "5437648             7659                 Amroth Ave / Danforth Ave\n",
       "5440055             7663                    Kilgour Rd / Rumsey Rd\n",
       "5441067             7665         Sunnybrook Health Centre - S Wing\n",
       "5441074             7660                           285 Victoria St\n",
       "5449285             7666        Dundas St W / St Helen Ave - SMART\n",
       "5456428             7664         Sunnybrook Health Centre - L Wing\n",
       "8170265             7675                            1525 Dundas St\n",
       "8170304             7680                 Princes Gate / Nunavut Dr\n",
       "8171423             7681                              25 Booth Ave\n",
       "8172355             7679           York University Station (North)\n",
       "8173025             7677                     1303 Yonge St - SMART\n",
       "8177333             7678   York University Station (South) - SMART\n",
       "8192570             7676  York University (Glendon Campus) - SMART"
      ]
     },
     "execution_count": 45,
     "metadata": {},
     "output_type": "execute_result"
    }
   ],
   "source": [
    "# Visualizing the nu\n",
    "st_id_name[st_id_name['Start Station Id'].isin(st_id_missing_name)].dropna()"
   ]
  },
  {
   "cell_type": "markdown",
   "id": "375652d5",
   "metadata": {},
   "source": [
    "Only 15 station names available based on data already in the dataset, I will need to consider data outside of the dataset. In this case, the Bike Stations dataset can help with names."
   ]
  },
  {
   "cell_type": "code",
   "execution_count": 46,
   "id": "94deb39f",
   "metadata": {},
   "outputs": [
    {
     "data": {
      "text/html": [
       "<div>\n",
       "<style scoped>\n",
       "    .dataframe tbody tr th:only-of-type {\n",
       "        vertical-align: middle;\n",
       "    }\n",
       "\n",
       "    .dataframe tbody tr th {\n",
       "        vertical-align: top;\n",
       "    }\n",
       "\n",
       "    .dataframe thead th {\n",
       "        text-align: right;\n",
       "    }\n",
       "</style>\n",
       "<table border=\"1\" class=\"dataframe\">\n",
       "  <thead>\n",
       "    <tr style=\"text-align: right;\">\n",
       "      <th></th>\n",
       "      <th>station_id</th>\n",
       "      <th>station_name</th>\n",
       "      <th>lat</th>\n",
       "      <th>lon</th>\n",
       "      <th>name</th>\n",
       "    </tr>\n",
       "  </thead>\n",
       "  <tbody>\n",
       "    <tr>\n",
       "      <th>541</th>\n",
       "      <td>7659</td>\n",
       "      <td>Amroth Ave / Danforth Ave</td>\n",
       "      <td>43.685613</td>\n",
       "      <td>-79.311683</td>\n",
       "      <td>NaN</td>\n",
       "    </tr>\n",
       "    <tr>\n",
       "      <th>542</th>\n",
       "      <td>7660</td>\n",
       "      <td>285 Victoria St</td>\n",
       "      <td>43.656633</td>\n",
       "      <td>-79.379625</td>\n",
       "      <td>NaN</td>\n",
       "    </tr>\n",
       "    <tr>\n",
       "      <th>543</th>\n",
       "      <td>7662</td>\n",
       "      <td>Beaty Ave / Queen St W</td>\n",
       "      <td>43.639311</td>\n",
       "      <td>-79.440814</td>\n",
       "      <td>NaN</td>\n",
       "    </tr>\n",
       "    <tr>\n",
       "      <th>544</th>\n",
       "      <td>7663</td>\n",
       "      <td>Kilgour Rd / Rumsey Rd</td>\n",
       "      <td>43.718039</td>\n",
       "      <td>-79.371914</td>\n",
       "      <td>NaN</td>\n",
       "    </tr>\n",
       "    <tr>\n",
       "      <th>545</th>\n",
       "      <td>7664</td>\n",
       "      <td>Sunnybrook Health Centre - L Wing</td>\n",
       "      <td>43.722680</td>\n",
       "      <td>-79.376440</td>\n",
       "      <td>NaN</td>\n",
       "    </tr>\n",
       "    <tr>\n",
       "      <th>...</th>\n",
       "      <td>...</td>\n",
       "      <td>...</td>\n",
       "      <td>...</td>\n",
       "      <td>...</td>\n",
       "      <td>...</td>\n",
       "    </tr>\n",
       "    <tr>\n",
       "      <th>773</th>\n",
       "      <td>7914</td>\n",
       "      <td>York St / Wellington St W (2)</td>\n",
       "      <td>43.647043</td>\n",
       "      <td>-79.383141</td>\n",
       "      <td>NaN</td>\n",
       "    </tr>\n",
       "    <tr>\n",
       "      <th>774</th>\n",
       "      <td>7915</td>\n",
       "      <td>Rogers Rd / Watt Ave</td>\n",
       "      <td>43.682337</td>\n",
       "      <td>-79.468059</td>\n",
       "      <td>NaN</td>\n",
       "    </tr>\n",
       "    <tr>\n",
       "      <th>775</th>\n",
       "      <td>7916</td>\n",
       "      <td>University Ave / Pearl St</td>\n",
       "      <td>43.648430</td>\n",
       "      <td>-79.385566</td>\n",
       "      <td>NaN</td>\n",
       "    </tr>\n",
       "    <tr>\n",
       "      <th>776</th>\n",
       "      <td>7917</td>\n",
       "      <td>King St W / University Ave</td>\n",
       "      <td>43.647818</td>\n",
       "      <td>-79.384280</td>\n",
       "      <td>NaN</td>\n",
       "    </tr>\n",
       "    <tr>\n",
       "      <th>777</th>\n",
       "      <td>7918</td>\n",
       "      <td>Albion Rd/ Arcot Blvd</td>\n",
       "      <td>43.727622</td>\n",
       "      <td>-79.552549</td>\n",
       "      <td>NaN</td>\n",
       "    </tr>\n",
       "  </tbody>\n",
       "</table>\n",
       "<p>234 rows × 5 columns</p>\n",
       "</div>"
      ],
      "text/plain": [
       "    station_id                       station_name        lat        lon name\n",
       "541       7659          Amroth Ave / Danforth Ave  43.685613 -79.311683  NaN\n",
       "542       7660                    285 Victoria St  43.656633 -79.379625  NaN\n",
       "543       7662             Beaty Ave / Queen St W  43.639311 -79.440814  NaN\n",
       "544       7663             Kilgour Rd / Rumsey Rd  43.718039 -79.371914  NaN\n",
       "545       7664  Sunnybrook Health Centre - L Wing  43.722680 -79.376440  NaN\n",
       "..         ...                                ...        ...        ...  ...\n",
       "773       7914      York St / Wellington St W (2)  43.647043 -79.383141  NaN\n",
       "774       7915               Rogers Rd / Watt Ave  43.682337 -79.468059  NaN\n",
       "775       7916         University Ave / Pearl St   43.648430 -79.385566  NaN\n",
       "776       7917         King St W / University Ave  43.647818 -79.384280  NaN\n",
       "777       7918              Albion Rd/ Arcot Blvd  43.727622 -79.552549  NaN\n",
       "\n",
       "[234 rows x 5 columns]"
      ]
     },
     "execution_count": 46,
     "metadata": {},
     "output_type": "execute_result"
    }
   ],
   "source": [
    "# Look to see how many unique Station Names can be filled in with Stations Dataset\n",
    "df_bike_stations[df_bike_stations['station_id'].isin(st_id_missing_name)]"
   ]
  },
  {
   "cell_type": "markdown",
   "id": "84140f74",
   "metadata": {},
   "source": [
    "The Stations Dataset can fill in about 234 / 241 stations with missing ID"
   ]
  },
  {
   "cell_type": "markdown",
   "id": "d4d0683f",
   "metadata": {},
   "source": [
    "*Fill in Empty Start Station Names*"
   ]
  },
  {
   "cell_type": "code",
   "execution_count": 47,
   "id": "3f03826b",
   "metadata": {},
   "outputs": [
    {
     "data": {
      "text/plain": [
       "Trip Id                    0\n",
       "Trip  Duration             0\n",
       "Start Station Id           0\n",
       "Start Time                 0\n",
       "Start Station Name    782629\n",
       "End Station Id             0\n",
       "End Time                   0\n",
       "End Station Name      783979\n",
       "Bike Id                  275\n",
       "User Type                  0\n",
       "dtype: int64"
      ]
     },
     "execution_count": 47,
     "metadata": {},
     "output_type": "execute_result"
    }
   ],
   "source": [
    "df_bike_share_trips.isna().sum()"
   ]
  },
  {
   "cell_type": "code",
   "execution_count": 48,
   "id": "94064591",
   "metadata": {},
   "outputs": [
    {
     "data": {
      "text/plain": [
       "station_id\n",
       "7000    Fort York  Blvd / Capreol Ct\n",
       "7001       Wellesley Station Green P\n",
       "7002      St. George St / Bloor St W\n",
       "7003        Madison Ave / Bloor St W\n",
       "7005             King St W / York St\n",
       "                    ...             \n",
       "7330                            <NA>\n",
       "7369                            <NA>\n",
       "7372                            <NA>\n",
       "7382                            <NA>\n",
       "7392                            <NA>\n",
       "Name: station_name, Length: 810, dtype: string"
      ]
     },
     "execution_count": 48,
     "metadata": {},
     "output_type": "execute_result"
    }
   ],
   "source": [
    "bike_stations_series = df_bike_stations.set_index('station_id')['station_name']\n",
    "bike_stations_series"
   ]
  },
  {
   "cell_type": "code",
   "execution_count": 49,
   "id": "9839f8a7",
   "metadata": {},
   "outputs": [],
   "source": [
    "# Fill in null values for Start / End Station Names \n",
    "\n",
    "df_bike_share_trips['Start Station Name'] = np.where(df_bike_share_trips['Start Station Name'].isna(), \n",
    "                                                    df_bike_share_trips['Start Station Id'].map(bike_stations_series),\n",
    "                                                    df_bike_share_trips['Start Station Name'])\n",
    "\n",
    "\n",
    "df_bike_share_trips['End Station Name'] = np.where(df_bike_share_trips['End Station Name'].isna(),\n",
    "                                                   df_bike_share_trips['End Station Id'].map(bike_stations_series),\n",
    "                                                   df_bike_share_trips['End Station Name'])"
   ]
  },
  {
   "cell_type": "code",
   "execution_count": 50,
   "id": "2059f073",
   "metadata": {},
   "outputs": [
    {
     "data": {
      "text/plain": [
       "Trip Id                   0\n",
       "Trip  Duration            0\n",
       "Start Station Id          0\n",
       "Start Time                0\n",
       "Start Station Name    25058\n",
       "End Station Id            0\n",
       "End Time                  0\n",
       "End Station Name      20765\n",
       "Bike Id                 275\n",
       "User Type                 0\n",
       "dtype: int64"
      ]
     },
     "execution_count": 50,
     "metadata": {},
     "output_type": "execute_result"
    }
   ],
   "source": [
    "df_bike_share_trips.isna().sum()"
   ]
  },
  {
   "cell_type": "code",
   "execution_count": 51,
   "id": "7e3dd3dd",
   "metadata": {},
   "outputs": [
    {
     "name": "stdout",
     "output_type": "stream",
     "text": [
      "0.1302  %\n"
     ]
    }
   ],
   "source": [
    "# Express missing Data as a percentage \n",
    "print(round(df_bike_share_trips['Start Station Name'].isna().sum() / df_bike_share_trips.shape[0] * 100,4), \" %\")"
   ]
  },
  {
   "cell_type": "code",
   "execution_count": 52,
   "id": "5fc8c831",
   "metadata": {},
   "outputs": [
    {
     "name": "stdout",
     "output_type": "stream",
     "text": [
      "0.1079  %\n"
     ]
    }
   ],
   "source": [
    "# Express missing Data as a percentage \n",
    "print(round(df_bike_share_trips['End Station Name'].isna().sum() / df_bike_share_trips.shape[0] * 100,4), \" %\")"
   ]
  },
  {
   "cell_type": "markdown",
   "id": "94806e21",
   "metadata": {},
   "source": [
    "##### Findings:\n",
    "Only a small percentage of Data has missing start / end Station Names."
   ]
  },
  {
   "cell_type": "markdown",
   "id": "454962c6",
   "metadata": {},
   "source": [
    "---"
   ]
  },
  {
   "cell_type": "markdown",
   "id": "52d1ade3",
   "metadata": {},
   "source": [
    "### Merge Lat and Lon Data"
   ]
  },
  {
   "cell_type": "markdown",
   "id": "fe58768f",
   "metadata": {},
   "source": [
    "Goal of this section is to bring in Lat and Lon values into our bike share trips data for start and end stations."
   ]
  },
  {
   "cell_type": "code",
   "execution_count": 53,
   "id": "4126bf55",
   "metadata": {},
   "outputs": [],
   "source": [
    "# Add in Lat and Lon for Start Station\n",
    "    # Use Left Join\n",
    "df_bike_share_trips = pd.merge(df_bike_share_trips, df_bike_stations[['station_id','lat','lon']], \n",
    "                               how= 'left', left_on= \"Start Station Id\", right_on= \"station_id\")\n",
    "\n",
    "# Rename Columns\n",
    "df_bike_share_trips.rename(columns={'lat': 'start_lat', 'lon': 'start_lon'}, inplace=True)\n",
    "\n",
    "# Drop 'station_id' that is brought in by merge\n",
    "df_bike_share_trips.drop(columns=['station_id'], inplace=True)"
   ]
  },
  {
   "cell_type": "code",
   "execution_count": 54,
   "id": "dacdd142",
   "metadata": {},
   "outputs": [],
   "source": [
    "# Add in Lat and Lon for End Station\n",
    "    # Use Left Join\n",
    "df_bike_share_trips = pd.merge(df_bike_share_trips, df_bike_stations[['station_id','lat','lon']], \n",
    "                               how= 'left', left_on= \"End Station Id\", right_on= \"station_id\")\n",
    "\n",
    "# Rename Columns\n",
    "df_bike_share_trips.rename(columns={'lat': 'end_lat', 'lon': 'end_lon'}, inplace=True)\n",
    "\n",
    "# Drop 'station_id' that is brought in by merge\n",
    "df_bike_share_trips.drop(columns=['station_id'], inplace=True)"
   ]
  },
  {
   "cell_type": "code",
   "execution_count": 55,
   "id": "f6a0fa44",
   "metadata": {},
   "outputs": [
    {
     "data": {
      "text/plain": [
       "Trip Id                    0\n",
       "Trip  Duration             0\n",
       "Start Station Id           0\n",
       "Start Time                 0\n",
       "Start Station Name     25058\n",
       "End Station Id             0\n",
       "End Time                   0\n",
       "End Station Name       20765\n",
       "Bike Id                  275\n",
       "User Type                  0\n",
       "start_lat             579356\n",
       "start_lon             579356\n",
       "end_lat               579540\n",
       "end_lon               579540\n",
       "dtype: int64"
      ]
     },
     "execution_count": 55,
     "metadata": {},
     "output_type": "execute_result"
    }
   ],
   "source": [
    "df_bike_share_trips.isna().sum()"
   ]
  },
  {
   "cell_type": "code",
   "execution_count": 56,
   "id": "b98643b8",
   "metadata": {},
   "outputs": [
    {
     "name": "stdout",
     "output_type": "stream",
     "text": [
      "3.0094  %\n"
     ]
    }
   ],
   "source": [
    "# Missing Values - Start_lat\n",
    "print(round(df_bike_share_trips['start_lat'].isna().sum() / df_bike_share_trips.shape[0] * 100,4), \" %\")"
   ]
  },
  {
   "cell_type": "code",
   "execution_count": 57,
   "id": "b01fab9f",
   "metadata": {},
   "outputs": [
    {
     "name": "stdout",
     "output_type": "stream",
     "text": [
      "3.0104  %\n"
     ]
    }
   ],
   "source": [
    "# Missing Values - End_lat\n",
    "print(round(df_bike_share_trips['end_lat'].isna().sum() / df_bike_share_trips.shape[0] * 100,4), \" %\")"
   ]
  },
  {
   "cell_type": "markdown",
   "id": "bcd6aff8",
   "metadata": {},
   "source": [
    "##### Findings:\n",
    "- If this was a professional setting, I would find ways to close this gap of missing data. Potential solutions would be to look at any other sources of data (i.e. internally at the organization or externally, via searching intersections based on station names, etc).\n",
    "- However, the goal of this project is to showcase my skills rather than trying to search for missing data. \n",
    "- I will be dropping rows where station data is unavailable (for the purpose of being able to perform visualizations, etc)."
   ]
  },
  {
   "cell_type": "code",
   "execution_count": 58,
   "id": "ab31991b",
   "metadata": {},
   "outputs": [],
   "source": [
    "# Drop Rows where the Station data is unavailable at this time\n",
    "df_bike_share_trips.dropna(subset= ['start_lat','end_lat'], inplace=True)"
   ]
  },
  {
   "cell_type": "code",
   "execution_count": 59,
   "id": "daeb96a5",
   "metadata": {},
   "outputs": [
    {
     "data": {
      "text/plain": [
       "Trip Id                 0\n",
       "Trip  Duration          0\n",
       "Start Station Id        0\n",
       "Start Time              0\n",
       "Start Station Name      0\n",
       "End Station Id          0\n",
       "End Time                0\n",
       "End Station Name        0\n",
       "Bike Id               255\n",
       "User Type               0\n",
       "start_lat               0\n",
       "start_lon               0\n",
       "end_lat                 0\n",
       "end_lon                 0\n",
       "dtype: int64"
      ]
     },
     "execution_count": 59,
     "metadata": {},
     "output_type": "execute_result"
    }
   ],
   "source": [
    "# Display Missing values\n",
    "df_bike_share_trips.isna().sum()"
   ]
  },
  {
   "cell_type": "code",
   "execution_count": 60,
   "id": "e71e8cf7",
   "metadata": {},
   "outputs": [
    {
     "name": "stdout",
     "output_type": "stream",
     "text": [
      "<class 'pandas.core.frame.DataFrame'>\n",
      "Int64Index: 18128950 entries, 0 to 19251404\n",
      "Data columns (total 14 columns):\n",
      " #   Column              Dtype         \n",
      "---  ------              -----         \n",
      " 0   Trip Id             string        \n",
      " 1   Trip  Duration      Int64         \n",
      " 2   Start Station Id    string        \n",
      " 3   Start Time          datetime64[ns]\n",
      " 4   Start Station Name  object        \n",
      " 5   End Station Id      string        \n",
      " 6   End Time            datetime64[ns]\n",
      " 7   End Station Name    object        \n",
      " 8   Bike Id             string        \n",
      " 9   User Type           string        \n",
      " 10  start_lat           float64       \n",
      " 11  start_lon           float64       \n",
      " 12  end_lat             float64       \n",
      " 13  end_lon             float64       \n",
      "dtypes: Int64(1), datetime64[ns](2), float64(4), object(2), string(5)\n",
      "memory usage: 2.0+ GB\n"
     ]
    }
   ],
   "source": [
    "df_bike_share_trips.info()"
   ]
  },
  {
   "cell_type": "code",
   "execution_count": 61,
   "id": "d9fd4b0d",
   "metadata": {},
   "outputs": [],
   "source": [
    "# Write to CSV \n",
    "df_bike_share_trips.to_csv(\"data/2019_to_2023_bike_ridership_clean.csv\",\n",
    "                           index = False) # don't include index as a separate column)"
   ]
  },
  {
   "cell_type": "markdown",
   "id": "5676db2e",
   "metadata": {},
   "source": [
    "---"
   ]
  }
 ],
 "metadata": {
  "kernelspec": {
   "display_name": "Python 3 (ipykernel)",
   "language": "python",
   "name": "python3"
  },
  "language_info": {
   "codemirror_mode": {
    "name": "ipython",
    "version": 3
   },
   "file_extension": ".py",
   "mimetype": "text/x-python",
   "name": "python",
   "nbconvert_exporter": "python",
   "pygments_lexer": "ipython3",
   "version": "3.9.7"
  }
 },
 "nbformat": 4,
 "nbformat_minor": 5
}
