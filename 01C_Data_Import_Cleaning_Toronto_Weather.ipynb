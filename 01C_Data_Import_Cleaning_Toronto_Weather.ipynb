{
 "cells": [
  {
   "cell_type": "markdown",
   "id": "c7ea2b65",
   "metadata": {},
   "source": [
    "# 01C - Data Import and Cleaning, Toronto Weather"
   ]
  },
  {
   "cell_type": "markdown",
   "id": "b166b2a3",
   "metadata": {},
   "source": [
    "## Import relevant libraries"
   ]
  },
  {
   "cell_type": "code",
   "execution_count": 1,
   "id": "b97f8624",
   "metadata": {},
   "outputs": [],
   "source": [
    "# Import Libraries\n",
    "import pandas as pd\n",
    "import numpy as np\n",
    "import requests\n",
    "import json\n",
    "\n",
    "from datetime import datetime"
   ]
  },
  {
   "cell_type": "markdown",
   "id": "accbb949",
   "metadata": {},
   "source": [
    "## Import Toronto Climate Data"
   ]
  },
  {
   "cell_type": "code",
   "execution_count": 2,
   "id": "a8b1a360",
   "metadata": {},
   "outputs": [],
   "source": [
    "# Read Weather Data\n",
    "df_weather_toronto_raw = pd.read_csv(\"data/climate-daily-Toronto-2019-2023.csv\")\n",
    "\n",
    "# Keep the original import dataset for comparability / being able to go back \n",
    "df_weather_toronto = df_weather_toronto_raw.copy()"
   ]
  },
  {
   "cell_type": "code",
   "execution_count": 3,
   "id": "45c6147d",
   "metadata": {},
   "outputs": [
    {
     "data": {
      "text/html": [
       "<div>\n",
       "<style scoped>\n",
       "    .dataframe tbody tr th:only-of-type {\n",
       "        vertical-align: middle;\n",
       "    }\n",
       "\n",
       "    .dataframe tbody tr th {\n",
       "        vertical-align: top;\n",
       "    }\n",
       "\n",
       "    .dataframe thead th {\n",
       "        text-align: right;\n",
       "    }\n",
       "</style>\n",
       "<table border=\"1\" class=\"dataframe\">\n",
       "  <thead>\n",
       "    <tr style=\"text-align: right;\">\n",
       "      <th></th>\n",
       "      <th>x</th>\n",
       "      <th>y</th>\n",
       "      <th>STATION_NAME</th>\n",
       "      <th>LOCAL_DATE</th>\n",
       "      <th>MEAN_TEMPERATURE_FLAG</th>\n",
       "      <th>CLIMATE_IDENTIFIER</th>\n",
       "      <th>MIN_REL_HUMIDITY</th>\n",
       "      <th>TOTAL_PRECIPITATION</th>\n",
       "      <th>TOTAL_RAIN_FLAG</th>\n",
       "      <th>MIN_TEMPERATURE_FLAG</th>\n",
       "      <th>...</th>\n",
       "      <th>SPEED_MAX_GUST</th>\n",
       "      <th>TOTAL_SNOW_FLAG</th>\n",
       "      <th>ID</th>\n",
       "      <th>MIN_TEMPERATURE</th>\n",
       "      <th>COOLING_DEGREE_DAYS</th>\n",
       "      <th>MAX_TEMPERATURE</th>\n",
       "      <th>MIN_REL_HUMIDITY_FLAG</th>\n",
       "      <th>HEATING_DEGREE_DAYS</th>\n",
       "      <th>MAX_REL_HUMIDITY</th>\n",
       "      <th>TOTAL_SNOW</th>\n",
       "    </tr>\n",
       "  </thead>\n",
       "  <tbody>\n",
       "    <tr>\n",
       "      <th>0</th>\n",
       "      <td>-79.4</td>\n",
       "      <td>43.666667</td>\n",
       "      <td>TORONTO CITY</td>\n",
       "      <td>2019-01-01 0:00</td>\n",
       "      <td>NaN</td>\n",
       "      <td>6158355</td>\n",
       "      <td>66.0</td>\n",
       "      <td>0.4</td>\n",
       "      <td>NaN</td>\n",
       "      <td>NaN</td>\n",
       "      <td>...</td>\n",
       "      <td>NaN</td>\n",
       "      <td>NaN</td>\n",
       "      <td>6158355.2019.1.1</td>\n",
       "      <td>-6.6</td>\n",
       "      <td>0.0</td>\n",
       "      <td>6.3</td>\n",
       "      <td>NaN</td>\n",
       "      <td>18.1</td>\n",
       "      <td>93.0</td>\n",
       "      <td>NaN</td>\n",
       "    </tr>\n",
       "    <tr>\n",
       "      <th>1</th>\n",
       "      <td>-79.4</td>\n",
       "      <td>43.666667</td>\n",
       "      <td>TORONTO CITY</td>\n",
       "      <td>2019-01-02 0:00</td>\n",
       "      <td>NaN</td>\n",
       "      <td>6158355</td>\n",
       "      <td>63.0</td>\n",
       "      <td>2.9</td>\n",
       "      <td>NaN</td>\n",
       "      <td>NaN</td>\n",
       "      <td>...</td>\n",
       "      <td>NaN</td>\n",
       "      <td>NaN</td>\n",
       "      <td>6158355.2019.1.2</td>\n",
       "      <td>-8.2</td>\n",
       "      <td>0.0</td>\n",
       "      <td>0.6</td>\n",
       "      <td>NaN</td>\n",
       "      <td>21.8</td>\n",
       "      <td>93.0</td>\n",
       "      <td>NaN</td>\n",
       "    </tr>\n",
       "    <tr>\n",
       "      <th>2</th>\n",
       "      <td>-79.4</td>\n",
       "      <td>43.666667</td>\n",
       "      <td>TORONTO CITY</td>\n",
       "      <td>2019-01-03 0:00</td>\n",
       "      <td>NaN</td>\n",
       "      <td>6158355</td>\n",
       "      <td>65.0</td>\n",
       "      <td>0.0</td>\n",
       "      <td>NaN</td>\n",
       "      <td>NaN</td>\n",
       "      <td>...</td>\n",
       "      <td>NaN</td>\n",
       "      <td>NaN</td>\n",
       "      <td>6158355.2019.1.3</td>\n",
       "      <td>-0.6</td>\n",
       "      <td>0.0</td>\n",
       "      <td>1.5</td>\n",
       "      <td>NaN</td>\n",
       "      <td>17.5</td>\n",
       "      <td>93.0</td>\n",
       "      <td>NaN</td>\n",
       "    </tr>\n",
       "    <tr>\n",
       "      <th>3</th>\n",
       "      <td>-79.4</td>\n",
       "      <td>43.666667</td>\n",
       "      <td>TORONTO CITY</td>\n",
       "      <td>2019-01-04 0:00</td>\n",
       "      <td>NaN</td>\n",
       "      <td>6158355</td>\n",
       "      <td>55.0</td>\n",
       "      <td>0.0</td>\n",
       "      <td>NaN</td>\n",
       "      <td>NaN</td>\n",
       "      <td>...</td>\n",
       "      <td>NaN</td>\n",
       "      <td>NaN</td>\n",
       "      <td>6158355.2019.1.4</td>\n",
       "      <td>1.2</td>\n",
       "      <td>0.0</td>\n",
       "      <td>7.8</td>\n",
       "      <td>NaN</td>\n",
       "      <td>13.5</td>\n",
       "      <td>80.0</td>\n",
       "      <td>NaN</td>\n",
       "    </tr>\n",
       "    <tr>\n",
       "      <th>4</th>\n",
       "      <td>-79.4</td>\n",
       "      <td>43.666667</td>\n",
       "      <td>TORONTO CITY</td>\n",
       "      <td>2019-01-05 0:00</td>\n",
       "      <td>NaN</td>\n",
       "      <td>6158355</td>\n",
       "      <td>70.0</td>\n",
       "      <td>0.0</td>\n",
       "      <td>NaN</td>\n",
       "      <td>NaN</td>\n",
       "      <td>...</td>\n",
       "      <td>NaN</td>\n",
       "      <td>NaN</td>\n",
       "      <td>6158355.2019.1.5</td>\n",
       "      <td>1.0</td>\n",
       "      <td>0.0</td>\n",
       "      <td>3.9</td>\n",
       "      <td>NaN</td>\n",
       "      <td>15.5</td>\n",
       "      <td>84.0</td>\n",
       "      <td>NaN</td>\n",
       "    </tr>\n",
       "  </tbody>\n",
       "</table>\n",
       "<p>5 rows × 36 columns</p>\n",
       "</div>"
      ],
      "text/plain": [
       "      x          y  STATION_NAME       LOCAL_DATE MEAN_TEMPERATURE_FLAG  \\\n",
       "0 -79.4  43.666667  TORONTO CITY  2019-01-01 0:00                   NaN   \n",
       "1 -79.4  43.666667  TORONTO CITY  2019-01-02 0:00                   NaN   \n",
       "2 -79.4  43.666667  TORONTO CITY  2019-01-03 0:00                   NaN   \n",
       "3 -79.4  43.666667  TORONTO CITY  2019-01-04 0:00                   NaN   \n",
       "4 -79.4  43.666667  TORONTO CITY  2019-01-05 0:00                   NaN   \n",
       "\n",
       "   CLIMATE_IDENTIFIER  MIN_REL_HUMIDITY  TOTAL_PRECIPITATION  TOTAL_RAIN_FLAG  \\\n",
       "0             6158355              66.0                  0.4              NaN   \n",
       "1             6158355              63.0                  2.9              NaN   \n",
       "2             6158355              65.0                  0.0              NaN   \n",
       "3             6158355              55.0                  0.0              NaN   \n",
       "4             6158355              70.0                  0.0              NaN   \n",
       "\n",
       "  MIN_TEMPERATURE_FLAG  ... SPEED_MAX_GUST  TOTAL_SNOW_FLAG                ID  \\\n",
       "0                  NaN  ...            NaN              NaN  6158355.2019.1.1   \n",
       "1                  NaN  ...            NaN              NaN  6158355.2019.1.2   \n",
       "2                  NaN  ...            NaN              NaN  6158355.2019.1.3   \n",
       "3                  NaN  ...            NaN              NaN  6158355.2019.1.4   \n",
       "4                  NaN  ...            NaN              NaN  6158355.2019.1.5   \n",
       "\n",
       "  MIN_TEMPERATURE  COOLING_DEGREE_DAYS  MAX_TEMPERATURE  \\\n",
       "0            -6.6                  0.0              6.3   \n",
       "1            -8.2                  0.0              0.6   \n",
       "2            -0.6                  0.0              1.5   \n",
       "3             1.2                  0.0              7.8   \n",
       "4             1.0                  0.0              3.9   \n",
       "\n",
       "   MIN_REL_HUMIDITY_FLAG HEATING_DEGREE_DAYS  MAX_REL_HUMIDITY TOTAL_SNOW  \n",
       "0                    NaN                18.1              93.0        NaN  \n",
       "1                    NaN                21.8              93.0        NaN  \n",
       "2                    NaN                17.5              93.0        NaN  \n",
       "3                    NaN                13.5              80.0        NaN  \n",
       "4                    NaN                15.5              84.0        NaN  \n",
       "\n",
       "[5 rows x 36 columns]"
      ]
     },
     "execution_count": 3,
     "metadata": {},
     "output_type": "execute_result"
    }
   ],
   "source": [
    "df_weather_toronto.head()"
   ]
  },
  {
   "cell_type": "code",
   "execution_count": 4,
   "id": "410f968e",
   "metadata": {},
   "outputs": [
    {
     "data": {
      "text/plain": [
       "(1826, 36)"
      ]
     },
     "execution_count": 4,
     "metadata": {},
     "output_type": "execute_result"
    }
   ],
   "source": [
    "df_weather_toronto.shape"
   ]
  },
  {
   "cell_type": "code",
   "execution_count": 5,
   "id": "94eb5a5d",
   "metadata": {},
   "outputs": [
    {
     "name": "stdout",
     "output_type": "stream",
     "text": [
      "<class 'pandas.core.frame.DataFrame'>\n",
      "RangeIndex: 1826 entries, 0 to 1825\n",
      "Data columns (total 36 columns):\n",
      " #   Column                    Non-Null Count  Dtype  \n",
      "---  ------                    --------------  -----  \n",
      " 0   x                         1826 non-null   float64\n",
      " 1   y                         1826 non-null   float64\n",
      " 2   STATION_NAME              1826 non-null   object \n",
      " 3   LOCAL_DATE                1826 non-null   object \n",
      " 4   MEAN_TEMPERATURE_FLAG     12 non-null     object \n",
      " 5   CLIMATE_IDENTIFIER        1826 non-null   int64  \n",
      " 6   MIN_REL_HUMIDITY          1814 non-null   float64\n",
      " 7   TOTAL_PRECIPITATION       1814 non-null   float64\n",
      " 8   TOTAL_RAIN_FLAG           0 non-null      float64\n",
      " 9   MIN_TEMPERATURE_FLAG      12 non-null     object \n",
      " 10  COOLING_DEGREE_DAYS_FLAG  12 non-null     object \n",
      " 11  SNOW_ON_GROUND_FLAG       0 non-null      float64\n",
      " 12  SNOW_ON_GROUND            498 non-null    float64\n",
      " 13  SPEED_MAX_GUST_FLAG       1826 non-null   object \n",
      " 14  LOCAL_MONTH               1826 non-null   int64  \n",
      " 15  LOCAL_DAY                 1826 non-null   int64  \n",
      " 16  TOTAL_RAIN                0 non-null      float64\n",
      " 17  MAX_REL_HUMIDITY_FLAG     12 non-null     object \n",
      " 18  MEAN_TEMPERATURE          1814 non-null   float64\n",
      " 19  HEATING_DEGREE_DAYS_FLAG  12 non-null     object \n",
      " 20  DIRECTION_MAX_GUST_FLAG   1826 non-null   object \n",
      " 21  TOTAL_PRECIPITATION_FLAG  12 non-null     object \n",
      " 22  PROVINCE_CODE             1826 non-null   object \n",
      " 23  MAX_TEMPERATURE_FLAG      12 non-null     object \n",
      " 24  DIRECTION_MAX_GUST        0 non-null      float64\n",
      " 25  LOCAL_YEAR                1826 non-null   int64  \n",
      " 26  SPEED_MAX_GUST            0 non-null      float64\n",
      " 27  TOTAL_SNOW_FLAG           0 non-null      float64\n",
      " 28  ID                        1826 non-null   object \n",
      " 29  MIN_TEMPERATURE           1814 non-null   float64\n",
      " 30  COOLING_DEGREE_DAYS       1814 non-null   float64\n",
      " 31  MAX_TEMPERATURE           1814 non-null   float64\n",
      " 32  MIN_REL_HUMIDITY_FLAG     12 non-null     object \n",
      " 33  HEATING_DEGREE_DAYS       1814 non-null   float64\n",
      " 34  MAX_REL_HUMIDITY          1814 non-null   float64\n",
      " 35  TOTAL_SNOW                0 non-null      float64\n",
      "dtypes: float64(18), int64(4), object(14)\n",
      "memory usage: 513.7+ KB\n"
     ]
    }
   ],
   "source": [
    "df_weather_toronto.info()"
   ]
  },
  {
   "cell_type": "markdown",
   "id": "73068072",
   "metadata": {},
   "source": [
    "## Inspecting columns and dropping irrelevant columns"
   ]
  },
  {
   "cell_type": "code",
   "execution_count": 6,
   "id": "9040b0f9",
   "metadata": {},
   "outputs": [
    {
     "name": "stdout",
     "output_type": "stream",
     "text": [
      "x\n",
      "[-79.4]\n",
      "y\n",
      "[43.66666667]\n",
      "STATION_NAME\n",
      "['TORONTO CITY']\n",
      "CLIMATE_IDENTIFIER\n",
      "[6158355]\n",
      "TOTAL_RAIN_FLAG\n",
      "[nan]\n",
      "SNOW_ON_GROUND_FLAG\n",
      "[nan]\n",
      "SPEED_MAX_GUST_FLAG\n",
      "['M']\n",
      "TOTAL_RAIN\n",
      "[nan]\n",
      "DIRECTION_MAX_GUST_FLAG\n",
      "['M']\n",
      "PROVINCE_CODE\n",
      "['ON']\n",
      "DIRECTION_MAX_GUST\n",
      "[nan]\n",
      "SPEED_MAX_GUST\n",
      "[nan]\n",
      "TOTAL_SNOW_FLAG\n",
      "[nan]\n",
      "TOTAL_SNOW\n",
      "[nan]\n"
     ]
    }
   ],
   "source": [
    "# Loop through columns\n",
    "# For columns with only 1 unique item, print the unique item \n",
    "\n",
    "list_col_names_redundant = [] # instantiate the list\n",
    "\n",
    "for col in df_weather_toronto.columns:\n",
    "    arr_unique_col_items = df_weather_toronto[col].unique()\n",
    "    if len(df_weather_toronto[col].unique()) == 1:\n",
    "        \n",
    "        # Add to list \n",
    "        list_col_names_redundant.append(col)\n",
    "        \n",
    "        # Print column, and value\n",
    "        print(col)\n",
    "        print(arr_unique_col_items)"
   ]
  },
  {
   "cell_type": "markdown",
   "id": "2fdb3a43",
   "metadata": {},
   "source": [
    "Based on a visual inspection above, it doesn't seem like the above columns provide any extra value as they have the same value across all rows. These columns will be dropped."
   ]
  },
  {
   "cell_type": "code",
   "execution_count": 7,
   "id": "5253069a",
   "metadata": {},
   "outputs": [
    {
     "data": {
      "text/plain": [
       "['x',\n",
       " 'y',\n",
       " 'STATION_NAME',\n",
       " 'CLIMATE_IDENTIFIER',\n",
       " 'TOTAL_RAIN_FLAG',\n",
       " 'SNOW_ON_GROUND_FLAG',\n",
       " 'SPEED_MAX_GUST_FLAG',\n",
       " 'TOTAL_RAIN',\n",
       " 'DIRECTION_MAX_GUST_FLAG',\n",
       " 'PROVINCE_CODE',\n",
       " 'DIRECTION_MAX_GUST',\n",
       " 'SPEED_MAX_GUST',\n",
       " 'TOTAL_SNOW_FLAG',\n",
       " 'TOTAL_SNOW']"
      ]
     },
     "execution_count": 7,
     "metadata": {},
     "output_type": "execute_result"
    }
   ],
   "source": [
    "# Check list of redundant columns\n",
    "list_col_names_redundant"
   ]
  },
  {
   "cell_type": "code",
   "execution_count": 8,
   "id": "132adadd",
   "metadata": {},
   "outputs": [],
   "source": [
    "# Drop redundant columns\n",
    "df_weather_toronto.drop(columns=list_col_names_redundant, inplace=True)"
   ]
  },
  {
   "cell_type": "code",
   "execution_count": 9,
   "id": "0a5295d8",
   "metadata": {},
   "outputs": [
    {
     "data": {
      "text/plain": [
       "(1826, 22)"
      ]
     },
     "execution_count": 9,
     "metadata": {},
     "output_type": "execute_result"
    }
   ],
   "source": [
    "df_weather_toronto.shape"
   ]
  },
  {
   "cell_type": "code",
   "execution_count": 10,
   "id": "9384dd23",
   "metadata": {},
   "outputs": [
    {
     "name": "stdout",
     "output_type": "stream",
     "text": [
      "<class 'pandas.core.frame.DataFrame'>\n",
      "RangeIndex: 1826 entries, 0 to 1825\n",
      "Data columns (total 22 columns):\n",
      " #   Column                    Non-Null Count  Dtype  \n",
      "---  ------                    --------------  -----  \n",
      " 0   LOCAL_DATE                1826 non-null   object \n",
      " 1   MEAN_TEMPERATURE_FLAG     12 non-null     object \n",
      " 2   MIN_REL_HUMIDITY          1814 non-null   float64\n",
      " 3   TOTAL_PRECIPITATION       1814 non-null   float64\n",
      " 4   MIN_TEMPERATURE_FLAG      12 non-null     object \n",
      " 5   COOLING_DEGREE_DAYS_FLAG  12 non-null     object \n",
      " 6   SNOW_ON_GROUND            498 non-null    float64\n",
      " 7   LOCAL_MONTH               1826 non-null   int64  \n",
      " 8   LOCAL_DAY                 1826 non-null   int64  \n",
      " 9   MAX_REL_HUMIDITY_FLAG     12 non-null     object \n",
      " 10  MEAN_TEMPERATURE          1814 non-null   float64\n",
      " 11  HEATING_DEGREE_DAYS_FLAG  12 non-null     object \n",
      " 12  TOTAL_PRECIPITATION_FLAG  12 non-null     object \n",
      " 13  MAX_TEMPERATURE_FLAG      12 non-null     object \n",
      " 14  LOCAL_YEAR                1826 non-null   int64  \n",
      " 15  ID                        1826 non-null   object \n",
      " 16  MIN_TEMPERATURE           1814 non-null   float64\n",
      " 17  COOLING_DEGREE_DAYS       1814 non-null   float64\n",
      " 18  MAX_TEMPERATURE           1814 non-null   float64\n",
      " 19  MIN_REL_HUMIDITY_FLAG     12 non-null     object \n",
      " 20  HEATING_DEGREE_DAYS       1814 non-null   float64\n",
      " 21  MAX_REL_HUMIDITY          1814 non-null   float64\n",
      "dtypes: float64(9), int64(3), object(10)\n",
      "memory usage: 314.0+ KB\n"
     ]
    }
   ],
   "source": [
    "df_weather_toronto.info()"
   ]
  },
  {
   "cell_type": "markdown",
   "id": "dda672f9",
   "metadata": {},
   "source": [
    "## Date-related fields"
   ]
  },
  {
   "cell_type": "code",
   "execution_count": 11,
   "id": "522dc046",
   "metadata": {},
   "outputs": [],
   "source": [
    "# Update Date to \n",
    "df_weather_toronto['LOCAL_DATE'] = df_weather_toronto['LOCAL_DATE'].astype('datetime64[ns]')"
   ]
  },
  {
   "cell_type": "code",
   "execution_count": 12,
   "id": "5e054b62",
   "metadata": {},
   "outputs": [
    {
     "data": {
      "text/plain": [
       "dtype('<M8[ns]')"
      ]
     },
     "execution_count": 12,
     "metadata": {},
     "output_type": "execute_result"
    }
   ],
   "source": [
    "# Check datatype is updated\n",
    "df_weather_toronto['LOCAL_DATE'].dtype"
   ]
  },
  {
   "cell_type": "code",
   "execution_count": 13,
   "id": "4fb94007",
   "metadata": {},
   "outputs": [
    {
     "data": {
      "text/plain": [
       "2019    365\n",
       "2020    366\n",
       "2021    365\n",
       "2022    365\n",
       "2023    365\n",
       "Name: LOCAL_YEAR, dtype: int64"
      ]
     },
     "execution_count": 13,
     "metadata": {},
     "output_type": "execute_result"
    }
   ],
   "source": [
    "# View Date Related Column by value count# \n",
    "df_weather_toronto['LOCAL_YEAR'].value_counts().sort_index()"
   ]
  },
  {
   "cell_type": "code",
   "execution_count": 14,
   "id": "bdaae768",
   "metadata": {},
   "outputs": [
    {
     "data": {
      "text/plain": [
       "1     155\n",
       "2     141\n",
       "3     155\n",
       "4     150\n",
       "5     155\n",
       "6     150\n",
       "7     155\n",
       "8     155\n",
       "9     150\n",
       "10    155\n",
       "11    150\n",
       "12    155\n",
       "Name: LOCAL_MONTH, dtype: int64"
      ]
     },
     "execution_count": 14,
     "metadata": {},
     "output_type": "execute_result"
    }
   ],
   "source": [
    "# View Date Related Column by value count\n",
    "df_weather_toronto['LOCAL_MONTH'].value_counts().sort_index()"
   ]
  },
  {
   "cell_type": "code",
   "execution_count": 15,
   "id": "048fc3e7",
   "metadata": {},
   "outputs": [
    {
     "data": {
      "text/plain": [
       "1     60\n",
       "2     60\n",
       "3     60\n",
       "4     60\n",
       "5     60\n",
       "6     60\n",
       "7     60\n",
       "8     60\n",
       "9     60\n",
       "10    60\n",
       "11    60\n",
       "12    60\n",
       "13    60\n",
       "14    60\n",
       "15    60\n",
       "16    60\n",
       "17    60\n",
       "18    60\n",
       "19    60\n",
       "20    60\n",
       "21    60\n",
       "22    60\n",
       "23    60\n",
       "24    60\n",
       "25    60\n",
       "26    60\n",
       "27    60\n",
       "28    60\n",
       "29    56\n",
       "30    55\n",
       "31    35\n",
       "Name: LOCAL_DAY, dtype: int64"
      ]
     },
     "execution_count": 15,
     "metadata": {},
     "output_type": "execute_result"
    }
   ],
   "source": [
    "# View Date Related Column by value count\n",
    "df_weather_toronto['LOCAL_DAY'].value_counts().sort_index()"
   ]
  },
  {
   "cell_type": "code",
   "execution_count": 16,
   "id": "70f59452",
   "metadata": {},
   "outputs": [
    {
     "data": {
      "text/plain": [
       "0         6158355.2019.1.1\n",
       "1         6158355.2019.1.2\n",
       "2         6158355.2019.1.3\n",
       "3         6158355.2019.1.4\n",
       "4         6158355.2019.1.5\n",
       "               ...        \n",
       "1821    6158355.2023.12.27\n",
       "1822    6158355.2023.12.28\n",
       "1823    6158355.2023.12.29\n",
       "1824    6158355.2023.12.30\n",
       "1825    6158355.2023.12.31\n",
       "Name: ID, Length: 1826, dtype: object"
      ]
     },
     "execution_count": 16,
     "metadata": {},
     "output_type": "execute_result"
    }
   ],
   "source": [
    "df_weather_toronto['ID']"
   ]
  },
  {
   "cell_type": "code",
   "execution_count": 17,
   "id": "ff9683de",
   "metadata": {},
   "outputs": [],
   "source": [
    "list_col_names_redundant = ['LOCAL_YEAR', 'LOCAL_MONTH', 'LOCAL_DAY','ID'] \n",
    "\n",
    "# Drop redundant columns\n",
    "df_weather_toronto.drop(columns=list_col_names_redundant, inplace=True)"
   ]
  },
  {
   "cell_type": "code",
   "execution_count": 18,
   "id": "462748b4",
   "metadata": {},
   "outputs": [
    {
     "name": "stdout",
     "output_type": "stream",
     "text": [
      "<class 'pandas.core.frame.DataFrame'>\n",
      "RangeIndex: 1826 entries, 0 to 1825\n",
      "Data columns (total 18 columns):\n",
      " #   Column                    Non-Null Count  Dtype         \n",
      "---  ------                    --------------  -----         \n",
      " 0   LOCAL_DATE                1826 non-null   datetime64[ns]\n",
      " 1   MEAN_TEMPERATURE_FLAG     12 non-null     object        \n",
      " 2   MIN_REL_HUMIDITY          1814 non-null   float64       \n",
      " 3   TOTAL_PRECIPITATION       1814 non-null   float64       \n",
      " 4   MIN_TEMPERATURE_FLAG      12 non-null     object        \n",
      " 5   COOLING_DEGREE_DAYS_FLAG  12 non-null     object        \n",
      " 6   SNOW_ON_GROUND            498 non-null    float64       \n",
      " 7   MAX_REL_HUMIDITY_FLAG     12 non-null     object        \n",
      " 8   MEAN_TEMPERATURE          1814 non-null   float64       \n",
      " 9   HEATING_DEGREE_DAYS_FLAG  12 non-null     object        \n",
      " 10  TOTAL_PRECIPITATION_FLAG  12 non-null     object        \n",
      " 11  MAX_TEMPERATURE_FLAG      12 non-null     object        \n",
      " 12  MIN_TEMPERATURE           1814 non-null   float64       \n",
      " 13  COOLING_DEGREE_DAYS       1814 non-null   float64       \n",
      " 14  MAX_TEMPERATURE           1814 non-null   float64       \n",
      " 15  MIN_REL_HUMIDITY_FLAG     12 non-null     object        \n",
      " 16  HEATING_DEGREE_DAYS       1814 non-null   float64       \n",
      " 17  MAX_REL_HUMIDITY          1814 non-null   float64       \n",
      "dtypes: datetime64[ns](1), float64(9), object(8)\n",
      "memory usage: 256.9+ KB\n"
     ]
    }
   ],
   "source": [
    "df_weather_toronto.info()"
   ]
  },
  {
   "cell_type": "markdown",
   "id": "31b5900d",
   "metadata": {},
   "source": [
    "## Fields with data missing for half of rows or more"
   ]
  },
  {
   "cell_type": "code",
   "execution_count": 19,
   "id": "1da889a2",
   "metadata": {},
   "outputs": [
    {
     "data": {
      "text/plain": [
       "MEAN_TEMPERATURE_FLAG       1814\n",
       "MIN_TEMPERATURE_FLAG        1814\n",
       "COOLING_DEGREE_DAYS_FLAG    1814\n",
       "SNOW_ON_GROUND              1328\n",
       "MAX_REL_HUMIDITY_FLAG       1814\n",
       "HEATING_DEGREE_DAYS_FLAG    1814\n",
       "TOTAL_PRECIPITATION_FLAG    1814\n",
       "MAX_TEMPERATURE_FLAG        1814\n",
       "MIN_REL_HUMIDITY_FLAG       1814\n",
       "dtype: int64"
      ]
     },
     "execution_count": 19,
     "metadata": {},
     "output_type": "execute_result"
    }
   ],
   "source": [
    "# Get list of columns with less than half the fields\n",
    "df_weather_toronto.isna().sum().loc[lambda x: x > (df_weather_toronto.shape[0]/2)]"
   ]
  },
  {
   "cell_type": "code",
   "execution_count": 20,
   "id": "dccf1f59",
   "metadata": {},
   "outputs": [
    {
     "data": {
      "text/plain": [
       "['MEAN_TEMPERATURE_FLAG',\n",
       " 'MIN_TEMPERATURE_FLAG',\n",
       " 'COOLING_DEGREE_DAYS_FLAG',\n",
       " 'SNOW_ON_GROUND',\n",
       " 'MAX_REL_HUMIDITY_FLAG',\n",
       " 'HEATING_DEGREE_DAYS_FLAG',\n",
       " 'TOTAL_PRECIPITATION_FLAG',\n",
       " 'MAX_TEMPERATURE_FLAG',\n",
       " 'MIN_REL_HUMIDITY_FLAG']"
      ]
     },
     "execution_count": 20,
     "metadata": {},
     "output_type": "execute_result"
    }
   ],
   "source": [
    "# Get the above column names in list form.\n",
    "list_col_names_redundant = df_weather_toronto.isna().sum().loc[lambda x: x > (df_weather_toronto.shape[0]/2)].index.to_list()\n",
    "\n",
    "# Show list\n",
    "list_col_names_redundant"
   ]
  },
  {
   "cell_type": "code",
   "execution_count": 21,
   "id": "72487fb7",
   "metadata": {},
   "outputs": [],
   "source": [
    "# Drop columns\n",
    "df_weather_toronto.drop(columns=list_col_names_redundant, inplace=True)"
   ]
  },
  {
   "cell_type": "markdown",
   "id": "0841e4fc",
   "metadata": {},
   "source": [
    "##### Note:\n",
    "- For field \"SNOW_ON_GROUND\", it may make sense to have null values more than half the time as generally speaking winter only represents 25% of the year (based simply on 1 / 4 seasons). \n",
    "- However, this will still be dropped at this stage as the missing data below is easier to work without this column.\n",
    "- This columne can be analyzed using the \"raw\" dataframe imported at the beginning of this workbook"
   ]
  },
  {
   "cell_type": "markdown",
   "id": "d7664548",
   "metadata": {},
   "source": [
    "## Look at Missing Data"
   ]
  },
  {
   "cell_type": "code",
   "execution_count": 22,
   "id": "05ef2f1f",
   "metadata": {},
   "outputs": [
    {
     "data": {
      "text/plain": [
       "LOCAL_DATE              0\n",
       "MIN_REL_HUMIDITY       12\n",
       "TOTAL_PRECIPITATION    12\n",
       "MEAN_TEMPERATURE       12\n",
       "MIN_TEMPERATURE        12\n",
       "COOLING_DEGREE_DAYS    12\n",
       "MAX_TEMPERATURE        12\n",
       "HEATING_DEGREE_DAYS    12\n",
       "MAX_REL_HUMIDITY       12\n",
       "dtype: int64"
      ]
     },
     "execution_count": 22,
     "metadata": {},
     "output_type": "execute_result"
    }
   ],
   "source": [
    "# Look at remaining columns\n",
    "df_weather_toronto.isna().sum()"
   ]
  },
  {
   "cell_type": "code",
   "execution_count": 23,
   "id": "e016f4a3",
   "metadata": {},
   "outputs": [
    {
     "data": {
      "text/plain": [
       "12"
      ]
     },
     "execution_count": 23,
     "metadata": {},
     "output_type": "execute_result"
    }
   ],
   "source": [
    "# Look for how many rows have 1 or more missing values\n",
    "df_weather_toronto.isna().any(axis=1).sum()\n",
    "\n",
    "# If below number is 12 - then all the missing values are on the same date. "
   ]
  },
  {
   "cell_type": "markdown",
   "id": "3bbe95d0",
   "metadata": {},
   "source": [
    "It appears there are 12 days between 2019 - 2023 with missing values across the board (excluding \"SNOW_ON_GROUND\")"
   ]
  },
  {
   "cell_type": "code",
   "execution_count": 24,
   "id": "07fd9926",
   "metadata": {},
   "outputs": [
    {
     "data": {
      "text/plain": [
       "[Timestamp('2019-04-15 00:00:00'),\n",
       " Timestamp('2019-08-22 00:00:00'),\n",
       " Timestamp('2019-12-24 00:00:00'),\n",
       " Timestamp('2020-01-14 00:00:00'),\n",
       " Timestamp('2020-08-10 00:00:00'),\n",
       " Timestamp('2020-10-27 00:00:00'),\n",
       " Timestamp('2020-10-28 00:00:00'),\n",
       " Timestamp('2021-07-20 00:00:00'),\n",
       " Timestamp('2021-11-01 00:00:00'),\n",
       " Timestamp('2021-11-16 00:00:00'),\n",
       " Timestamp('2022-10-27 00:00:00'),\n",
       " Timestamp('2023-11-07 00:00:00')]"
      ]
     },
     "execution_count": 24,
     "metadata": {},
     "output_type": "execute_result"
    }
   ],
   "source": [
    "# Get the 12 dates\n",
    "list_12_dates = df_weather_toronto[df_weather_toronto.isna().any(axis=1)]['LOCAL_DATE'].to_list()\n",
    "\n",
    "# Show\n",
    "list_12_dates"
   ]
  },
  {
   "cell_type": "code",
   "execution_count": 25,
   "id": "ba8942a7",
   "metadata": {},
   "outputs": [
    {
     "name": "stdout",
     "output_type": "stream",
     "text": [
      "129  days\n",
      "124  days\n",
      "21  days\n",
      "209  days\n",
      "78  days\n",
      "1  days\n",
      "265  days\n",
      "104  days\n",
      "15  days\n",
      "345  days\n",
      "376  days\n"
     ]
    }
   ],
   "source": [
    "# Quick overview of how many days between missing data\n",
    "\n",
    "for i in range(0, len(list_12_dates)):\n",
    "    if i == 0:\n",
    "        continue # skip this iteration of loop\n",
    "    else:\n",
    "        print((list_12_dates[i] - list_12_dates[i-1]).days, \" days\")"
   ]
  },
  {
   "cell_type": "markdown",
   "id": "ee9cc20f",
   "metadata": {},
   "source": [
    "There are two days of back-to-back missing data, which are Oct 27 & 28th of 2020."
   ]
  },
  {
   "cell_type": "markdown",
   "id": "3b6ce069",
   "metadata": {},
   "source": [
    "### Filling in Missing Data with Forward Fill"
   ]
  },
  {
   "cell_type": "markdown",
   "id": "21964021",
   "metadata": {},
   "source": [
    "This technique fills in null values using the last valid observation (i.e. the day before)."
   ]
  },
  {
   "cell_type": "markdown",
   "id": "c7a32e38",
   "metadata": {},
   "source": [
    "For Oct 27 & 28th of 2020 (two days of back-to-back missing data), the value will be based on Oct 26th's data"
   ]
  },
  {
   "cell_type": "code",
   "execution_count": 26,
   "id": "c22b123c",
   "metadata": {},
   "outputs": [],
   "source": [
    "df_weather_toronto.ffill(inplace=True)"
   ]
  },
  {
   "cell_type": "code",
   "execution_count": 27,
   "id": "d6eac3b7",
   "metadata": {},
   "outputs": [
    {
     "data": {
      "text/html": [
       "<div>\n",
       "<style scoped>\n",
       "    .dataframe tbody tr th:only-of-type {\n",
       "        vertical-align: middle;\n",
       "    }\n",
       "\n",
       "    .dataframe tbody tr th {\n",
       "        vertical-align: top;\n",
       "    }\n",
       "\n",
       "    .dataframe thead th {\n",
       "        text-align: right;\n",
       "    }\n",
       "</style>\n",
       "<table border=\"1\" class=\"dataframe\">\n",
       "  <thead>\n",
       "    <tr style=\"text-align: right;\">\n",
       "      <th></th>\n",
       "      <th>LOCAL_DATE</th>\n",
       "      <th>MIN_REL_HUMIDITY</th>\n",
       "      <th>TOTAL_PRECIPITATION</th>\n",
       "      <th>MEAN_TEMPERATURE</th>\n",
       "      <th>MIN_TEMPERATURE</th>\n",
       "      <th>COOLING_DEGREE_DAYS</th>\n",
       "      <th>MAX_TEMPERATURE</th>\n",
       "      <th>HEATING_DEGREE_DAYS</th>\n",
       "      <th>MAX_REL_HUMIDITY</th>\n",
       "    </tr>\n",
       "  </thead>\n",
       "  <tbody>\n",
       "    <tr>\n",
       "      <th>664</th>\n",
       "      <td>2020-10-26</td>\n",
       "      <td>57.0</td>\n",
       "      <td>1.7</td>\n",
       "      <td>6.3</td>\n",
       "      <td>3.9</td>\n",
       "      <td>0.0</td>\n",
       "      <td>8.6</td>\n",
       "      <td>11.7</td>\n",
       "      <td>84.0</td>\n",
       "    </tr>\n",
       "    <tr>\n",
       "      <th>665</th>\n",
       "      <td>2020-10-27</td>\n",
       "      <td>57.0</td>\n",
       "      <td>1.7</td>\n",
       "      <td>6.3</td>\n",
       "      <td>3.9</td>\n",
       "      <td>0.0</td>\n",
       "      <td>8.6</td>\n",
       "      <td>11.7</td>\n",
       "      <td>84.0</td>\n",
       "    </tr>\n",
       "    <tr>\n",
       "      <th>666</th>\n",
       "      <td>2020-10-28</td>\n",
       "      <td>57.0</td>\n",
       "      <td>1.7</td>\n",
       "      <td>6.3</td>\n",
       "      <td>3.9</td>\n",
       "      <td>0.0</td>\n",
       "      <td>8.6</td>\n",
       "      <td>11.7</td>\n",
       "      <td>84.0</td>\n",
       "    </tr>\n",
       "    <tr>\n",
       "      <th>667</th>\n",
       "      <td>2020-10-29</td>\n",
       "      <td>65.0</td>\n",
       "      <td>0.0</td>\n",
       "      <td>6.8</td>\n",
       "      <td>2.9</td>\n",
       "      <td>0.0</td>\n",
       "      <td>10.7</td>\n",
       "      <td>11.2</td>\n",
       "      <td>80.0</td>\n",
       "    </tr>\n",
       "    <tr>\n",
       "      <th>668</th>\n",
       "      <td>2020-10-30</td>\n",
       "      <td>56.0</td>\n",
       "      <td>0.0</td>\n",
       "      <td>0.7</td>\n",
       "      <td>-1.9</td>\n",
       "      <td>0.0</td>\n",
       "      <td>3.3</td>\n",
       "      <td>17.3</td>\n",
       "      <td>71.0</td>\n",
       "    </tr>\n",
       "  </tbody>\n",
       "</table>\n",
       "</div>"
      ],
      "text/plain": [
       "    LOCAL_DATE  MIN_REL_HUMIDITY  TOTAL_PRECIPITATION  MEAN_TEMPERATURE  \\\n",
       "664 2020-10-26              57.0                  1.7               6.3   \n",
       "665 2020-10-27              57.0                  1.7               6.3   \n",
       "666 2020-10-28              57.0                  1.7               6.3   \n",
       "667 2020-10-29              65.0                  0.0               6.8   \n",
       "668 2020-10-30              56.0                  0.0               0.7   \n",
       "\n",
       "     MIN_TEMPERATURE  COOLING_DEGREE_DAYS  MAX_TEMPERATURE  \\\n",
       "664              3.9                  0.0              8.6   \n",
       "665              3.9                  0.0              8.6   \n",
       "666              3.9                  0.0              8.6   \n",
       "667              2.9                  0.0             10.7   \n",
       "668             -1.9                  0.0              3.3   \n",
       "\n",
       "     HEATING_DEGREE_DAYS  MAX_REL_HUMIDITY  \n",
       "664                 11.7              84.0  \n",
       "665                 11.7              84.0  \n",
       "666                 11.7              84.0  \n",
       "667                 11.2              80.0  \n",
       "668                 17.3              71.0  "
      ]
     },
     "execution_count": 27,
     "metadata": {},
     "output_type": "execute_result"
    }
   ],
   "source": [
    "# Show how Forward Fill works with the 2 consecutive dates with missing values\n",
    "df_weather_toronto[df_weather_toronto['LOCAL_DATE'] >= datetime(2020,10,26)].head()"
   ]
  },
  {
   "cell_type": "markdown",
   "id": "aee9af70",
   "metadata": {},
   "source": [
    "### Write to CSV"
   ]
  },
  {
   "cell_type": "code",
   "execution_count": 28,
   "id": "4fa44f1d",
   "metadata": {},
   "outputs": [],
   "source": [
    "# Write to CSV \n",
    "df_weather_toronto.to_csv(\"data/climate_daily_Toronto_2019_2023_clean.csv\",\n",
    "                          index = False) # don't include index as a separate column)"
   ]
  }
 ],
 "metadata": {
  "kernelspec": {
   "display_name": "Python 3 (ipykernel)",
   "language": "python",
   "name": "python3"
  },
  "language_info": {
   "codemirror_mode": {
    "name": "ipython",
    "version": 3
   },
   "file_extension": ".py",
   "mimetype": "text/x-python",
   "name": "python",
   "nbconvert_exporter": "python",
   "pygments_lexer": "ipython3",
   "version": "3.9.7"
  }
 },
 "nbformat": 4,
 "nbformat_minor": 5
}
